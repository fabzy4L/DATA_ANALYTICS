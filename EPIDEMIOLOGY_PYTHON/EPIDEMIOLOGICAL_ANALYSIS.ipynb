{
 "cells": [
  {
   "cell_type": "code",
   "execution_count": 2,
   "id": "dfde9a2e",
   "metadata": {},
   "outputs": [
    {
     "name": "stdout",
     "output_type": "stream",
     "text": [
      "Total Cases:  16480485.0\n",
      "Total Deaths:  654036.0\n",
      "Case Fatality Rate:  3.968548255709708\n"
     ]
    }
   ],
   "source": [
    "import pandas as pd\n",
    "\n",
    "# Add the file path where the data is located\n",
    "file_path = 'https://raw.githubusercontent.com/fabzy4L/DATA_ANALYTICS/main/EPIDEMIOLOGY_COV19_SHINY/outbreak.csv'\n",
    "\n",
    "# Load the data into a DataFrame\n",
    "df = pd.read_csv(file_path)\n",
    "\n",
    "# Calculate the total number of cases\n",
    "total_cases = df['Cases'].sum()\n",
    "\n",
    "# Calculate the total number of deaths\n",
    "total_deaths = df['Deaths'].sum()\n",
    "\n",
    "# Calculate the overall case fatality rate\n",
    "case_fatality_rate = (total_deaths / total_cases) * 100\n",
    "\n",
    "# Print the results\n",
    "print('Total Cases: ', total_cases)\n",
    "print('Total Deaths: ', total_deaths)\n",
    "print('Case Fatality Rate: ', case_fatality_rate)\n",
    "\n"
   ]
  },
  {
   "cell_type": "code",
   "execution_count": null,
   "id": "88e67541",
   "metadata": {},
   "outputs": [],
   "source": []
  },
  {
   "cell_type": "code",
   "execution_count": null,
   "id": "3a5a8c79",
   "metadata": {},
   "outputs": [],
   "source": []
  }
 ],
 "metadata": {
  "kernelspec": {
   "display_name": "Python 3 (ipykernel)",
   "language": "python",
   "name": "python3"
  },
  "language_info": {
   "codemirror_mode": {
    "name": "ipython",
    "version": 3
   },
   "file_extension": ".py",
   "mimetype": "text/x-python",
   "name": "python",
   "nbconvert_exporter": "python",
   "pygments_lexer": "ipython3",
   "version": "3.11.0"
  }
 },
 "nbformat": 4,
 "nbformat_minor": 5
}

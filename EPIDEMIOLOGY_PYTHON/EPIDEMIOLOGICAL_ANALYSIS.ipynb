{
 "cells": [
  {
   "cell_type": "markdown",
   "id": "7206732d",
   "metadata": {},
   "source": [
    "# LIBRARIES"
   ]
  },
  {
   "cell_type": "code",
   "execution_count": null,
   "id": "36d9a973",
   "metadata": {},
   "outputs": [],
   "source": [
    "import pandas as pd"
   ]
  },
  {
   "cell_type": "markdown",
   "id": "ead0c415",
   "metadata": {},
   "source": [
    "# DATA AND FILEPATH"
   ]
  },
  {
   "cell_type": "code",
   "execution_count": null,
   "id": "4256786b",
   "metadata": {},
   "outputs": [],
   "source": [
    "# Add the file path where the data is located\n",
    "file_path = 'https://raw.githubusercontent.com/fabzy4L/DATA_ANALYTICS/main/EPIDEMIOLOGY_COV19_SHINY/outbreak.csv'"
   ]
  },
  {
   "cell_type": "code",
   "execution_count": 10,
   "id": "b48e705e",
   "metadata": {},
   "outputs": [
    {
     "data": {
      "text/html": [
       "<div>\n",
       "<style scoped>\n",
       "    .dataframe tbody tr th:only-of-type {\n",
       "        vertical-align: middle;\n",
       "    }\n",
       "\n",
       "    .dataframe tbody tr th {\n",
       "        vertical-align: top;\n",
       "    }\n",
       "\n",
       "    .dataframe thead th {\n",
       "        text-align: right;\n",
       "    }\n",
       "</style>\n",
       "<table border=\"1\" class=\"dataframe\">\n",
       "  <thead>\n",
       "    <tr style=\"text-align: right;\">\n",
       "      <th></th>\n",
       "      <th>Region</th>\n",
       "      <th>Cases</th>\n",
       "      <th>Deaths</th>\n",
       "      <th>Recovered</th>\n",
       "      <th>Active</th>\n",
       "      <th>Longitude</th>\n",
       "      <th>Latitude</th>\n",
       "      <th>Date</th>\n",
       "    </tr>\n",
       "  </thead>\n",
       "  <tbody>\n",
       "    <tr>\n",
       "      <th>0</th>\n",
       "      <td>Afghanistan</td>\n",
       "      <td>36263.0</td>\n",
       "      <td>1269.0</td>\n",
       "      <td>25198.0</td>\n",
       "      <td>9796.0</td>\n",
       "      <td>67.709953</td>\n",
       "      <td>33.939110</td>\n",
       "      <td>NaN</td>\n",
       "    </tr>\n",
       "    <tr>\n",
       "      <th>1</th>\n",
       "      <td>Albania</td>\n",
       "      <td>4880.0</td>\n",
       "      <td>144.0</td>\n",
       "      <td>2745.0</td>\n",
       "      <td>1991.0</td>\n",
       "      <td>20.168331</td>\n",
       "      <td>41.153332</td>\n",
       "      <td>NaN</td>\n",
       "    </tr>\n",
       "    <tr>\n",
       "      <th>2</th>\n",
       "      <td>Algeria</td>\n",
       "      <td>27973.0</td>\n",
       "      <td>1163.0</td>\n",
       "      <td>18837.0</td>\n",
       "      <td>7973.0</td>\n",
       "      <td>1.659626</td>\n",
       "      <td>28.033886</td>\n",
       "      <td>NaN</td>\n",
       "    </tr>\n",
       "    <tr>\n",
       "      <th>3</th>\n",
       "      <td>Andorra</td>\n",
       "      <td>907.0</td>\n",
       "      <td>52.0</td>\n",
       "      <td>803.0</td>\n",
       "      <td>52.0</td>\n",
       "      <td>1.601554</td>\n",
       "      <td>42.546245</td>\n",
       "      <td>NaN</td>\n",
       "    </tr>\n",
       "    <tr>\n",
       "      <th>4</th>\n",
       "      <td>Angola</td>\n",
       "      <td>950.0</td>\n",
       "      <td>41.0</td>\n",
       "      <td>242.0</td>\n",
       "      <td>667.0</td>\n",
       "      <td>17.873887</td>\n",
       "      <td>-11.202692</td>\n",
       "      <td>NaN</td>\n",
       "    </tr>\n",
       "    <tr>\n",
       "      <th>...</th>\n",
       "      <td>...</td>\n",
       "      <td>...</td>\n",
       "      <td>...</td>\n",
       "      <td>...</td>\n",
       "      <td>...</td>\n",
       "      <td>...</td>\n",
       "      <td>...</td>\n",
       "      <td>...</td>\n",
       "    </tr>\n",
       "    <tr>\n",
       "      <th>182</th>\n",
       "      <td>Gaza Strip</td>\n",
       "      <td>10621.0</td>\n",
       "      <td>78.0</td>\n",
       "      <td>3752.0</td>\n",
       "      <td>6791.0</td>\n",
       "      <td>34.308825</td>\n",
       "      <td>31.354676</td>\n",
       "      <td>NaN</td>\n",
       "    </tr>\n",
       "    <tr>\n",
       "      <th>183</th>\n",
       "      <td>Western Sahara</td>\n",
       "      <td>10.0</td>\n",
       "      <td>1.0</td>\n",
       "      <td>8.0</td>\n",
       "      <td>1.0</td>\n",
       "      <td>-12.885834</td>\n",
       "      <td>24.215527</td>\n",
       "      <td>NaN</td>\n",
       "    </tr>\n",
       "    <tr>\n",
       "      <th>184</th>\n",
       "      <td>Yemen</td>\n",
       "      <td>1691.0</td>\n",
       "      <td>483.0</td>\n",
       "      <td>833.0</td>\n",
       "      <td>375.0</td>\n",
       "      <td>48.516388</td>\n",
       "      <td>15.552727</td>\n",
       "      <td>NaN</td>\n",
       "    </tr>\n",
       "    <tr>\n",
       "      <th>185</th>\n",
       "      <td>Zambia</td>\n",
       "      <td>4552.0</td>\n",
       "      <td>140.0</td>\n",
       "      <td>2815.0</td>\n",
       "      <td>1597.0</td>\n",
       "      <td>27.849332</td>\n",
       "      <td>-13.133897</td>\n",
       "      <td>NaN</td>\n",
       "    </tr>\n",
       "    <tr>\n",
       "      <th>186</th>\n",
       "      <td>Zimbabwe</td>\n",
       "      <td>2704.0</td>\n",
       "      <td>36.0</td>\n",
       "      <td>542.0</td>\n",
       "      <td>2126.0</td>\n",
       "      <td>29.154857</td>\n",
       "      <td>-19.015438</td>\n",
       "      <td>NaN</td>\n",
       "    </tr>\n",
       "  </tbody>\n",
       "</table>\n",
       "<p>187 rows × 8 columns</p>\n",
       "</div>"
      ],
      "text/plain": [
       "             Region    Cases  Deaths  Recovered  Active  Longitude   Latitude  \\\n",
       "0       Afghanistan  36263.0  1269.0    25198.0  9796.0  67.709953  33.939110   \n",
       "1           Albania   4880.0   144.0     2745.0  1991.0  20.168331  41.153332   \n",
       "2           Algeria  27973.0  1163.0    18837.0  7973.0   1.659626  28.033886   \n",
       "3           Andorra    907.0    52.0      803.0    52.0   1.601554  42.546245   \n",
       "4            Angola    950.0    41.0      242.0   667.0  17.873887 -11.202692   \n",
       "..              ...      ...     ...        ...     ...        ...        ...   \n",
       "182      Gaza Strip  10621.0    78.0     3752.0  6791.0  34.308825  31.354676   \n",
       "183  Western Sahara     10.0     1.0        8.0     1.0 -12.885834  24.215527   \n",
       "184           Yemen   1691.0   483.0      833.0   375.0  48.516388  15.552727   \n",
       "185          Zambia   4552.0   140.0     2815.0  1597.0  27.849332 -13.133897   \n",
       "186        Zimbabwe   2704.0    36.0      542.0  2126.0  29.154857 -19.015438   \n",
       "\n",
       "     Date  \n",
       "0     NaN  \n",
       "1     NaN  \n",
       "2     NaN  \n",
       "3     NaN  \n",
       "4     NaN  \n",
       "..    ...  \n",
       "182   NaN  \n",
       "183   NaN  \n",
       "184   NaN  \n",
       "185   NaN  \n",
       "186   NaN  \n",
       "\n",
       "[187 rows x 8 columns]"
      ]
     },
     "execution_count": 10,
     "metadata": {},
     "output_type": "execute_result"
    }
   ],
   "source": [
    "# Load the data into a DataFrame\n",
    "df = pd.read_csv(file_path)\n",
    "df"
   ]
  },
  {
   "cell_type": "markdown",
   "id": "9a4418d3",
   "metadata": {},
   "source": [
    "# CALCULATIONS"
   ]
  },
  {
   "cell_type": "code",
   "execution_count": null,
   "id": "752bbb0e",
   "metadata": {},
   "outputs": [],
   "source": [
    "# Calculate the total number of cases\n",
    "total_cases = df['Cases'].sum()\n",
    "\n",
    "# Calculate the total number of deaths\n",
    "total_deaths = df['Deaths'].sum()\n",
    "\n",
    "# Calculate the overall case fatality rate\n",
    "case_fatality_rate = (total_deaths / total_cases) * 100"
   ]
  },
  {
   "cell_type": "markdown",
   "id": "a5781e98",
   "metadata": {},
   "source": [
    "# RESULTS"
   ]
  },
  {
   "cell_type": "code",
   "execution_count": 11,
   "id": "dfde9a2e",
   "metadata": {},
   "outputs": [
    {
     "name": "stdout",
     "output_type": "stream",
     "text": [
      "Total Cases:  16480485.0\n",
      "Total Deaths:  654036.0\n",
      "Case Fatality Rate:  3.968548255709708\n"
     ]
    }
   ],
   "source": [
    "# Print the results\n",
    "print('Total Cases: ', total_cases)\n",
    "print('Total Deaths: ', total_deaths)\n",
    "print('Case Fatality Rate: ', case_fatality_rate)"
   ]
  }
 ],
 "metadata": {
  "kernelspec": {
   "display_name": "Python 3 (ipykernel)",
   "language": "python",
   "name": "python3"
  },
  "language_info": {
   "codemirror_mode": {
    "name": "ipython",
    "version": 3
   },
   "file_extension": ".py",
   "mimetype": "text/x-python",
   "name": "python",
   "nbconvert_exporter": "python",
   "pygments_lexer": "ipython3",
   "version": "3.11.0"
  }
 },
 "nbformat": 4,
 "nbformat_minor": 5
}

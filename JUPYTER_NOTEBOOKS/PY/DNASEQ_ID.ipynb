{
 "cells": [
  {
   "cell_type": "code",
   "execution_count": 34,
   "id": "2264a311",
   "metadata": {},
   "outputs": [
    {
     "name": "stdout",
     "output_type": "stream",
     "text": [
      "Enter DNA Seq:atataattgtcccattt\n"
     ]
    }
   ],
   "source": [
    "#Define variable \n",
    "dna = input(\"Enter DNA Seq:\")\n",
    "\n",
    "#types of variables in previous examples:\n",
    "\n",
    "#dna = agcgcgggtatatatatgcnccann\n",
    "#dna1 = atataattgtcccattt"
   ]
  },
  {
   "cell_type": "code",
   "execution_count": 35,
   "id": "7365a532",
   "metadata": {},
   "outputs": [
    {
     "name": "stdout",
     "output_type": "stream",
     "text": [
      "dna seq has no undef bases\n"
     ]
    }
   ],
   "source": [
    "if 'n' in dna:\n",
    "    nbases = dna.count('n')\n",
    "    print(\"dna seq has %d undefined bases\" %nbases)\n",
    "else:\n",
    "    print(\"dna seq has no undef bases\")"
   ]
  },
  {
   "cell_type": "code",
   "execution_count": 36,
   "id": "6b471bdd",
   "metadata": {},
   "outputs": [
    {
     "data": {
      "text/plain": [
       "8"
      ]
     },
     "execution_count": 36,
     "metadata": {},
     "output_type": "execute_result"
    }
   ],
   "source": [
    "pos = dna.find('gt',0)\n",
    "pos"
   ]
  },
  {
   "cell_type": "code",
   "execution_count": 37,
   "id": "3ad057a6",
   "metadata": {},
   "outputs": [
    {
     "data": {
      "text/plain": [
       "True"
      ]
     },
     "execution_count": 37,
     "metadata": {},
     "output_type": "execute_result"
    }
   ],
   "source": [
    "motif = \"gtccc\"\n",
    "motif in dna"
   ]
  }
 ],
 "metadata": {
  "kernelspec": {
   "display_name": "Python 3 (ipykernel)",
   "language": "python",
   "name": "python3"
  },
  "language_info": {
   "codemirror_mode": {
    "name": "ipython",
    "version": 3
   },
   "file_extension": ".py",
   "mimetype": "text/x-python",
   "name": "python",
   "nbconvert_exporter": "python",
   "pygments_lexer": "ipython3",
   "version": "3.11.0"
  }
 },
 "nbformat": 4,
 "nbformat_minor": 5
}

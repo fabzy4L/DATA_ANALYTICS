{
 "cells": [
  {
   "cell_type": "code",
   "execution_count": 1,
   "id": "9b34ee1b",
   "metadata": {},
   "outputs": [
    {
     "ename": "ModuleNotFoundError",
     "evalue": "No module named 'fenics'",
     "output_type": "error",
     "traceback": [
      "\u001b[0;31m---------------------------------------------------------------------------\u001b[0m",
      "\u001b[0;31mModuleNotFoundError\u001b[0m                       Traceback (most recent call last)",
      "Cell \u001b[0;32mIn [1], line 1\u001b[0m\n\u001b[0;32m----> 1\u001b[0m \u001b[38;5;28;01mimport\u001b[39;00m \u001b[38;5;21;01mfenics\u001b[39;00m \u001b[38;5;28;01mas\u001b[39;00m \u001b[38;5;21;01mfe\u001b[39;00m\n\u001b[1;32m      3\u001b[0m \u001b[38;5;66;03m# Create the mesh\u001b[39;00m\n\u001b[1;32m      4\u001b[0m mesh \u001b[38;5;241m=\u001b[39m fe\u001b[38;5;241m.\u001b[39mUnitSquareMesh(\u001b[38;5;241m32\u001b[39m, \u001b[38;5;241m32\u001b[39m)\n",
      "\u001b[0;31mModuleNotFoundError\u001b[0m: No module named 'fenics'"
     ]
    }
   ],
   "source": [
    "import fenics as fe\n",
    "\n",
    "# Create the mesh\n",
    "mesh = fe.UnitSquareMesh(32, 32)\n",
    "\n",
    "# Define the finite element function space\n",
    "V = fe.FunctionSpace(mesh, \"P\", 1)\n",
    "\n",
    "# Define the boundary conditions\n",
    "u_D = fe.Expression(\"1 + x[0]*x[0] + 2*x[1]*x[1]\", degree=2)\n",
    "\n",
    "def boundary(x, on_boundary):\n",
    "    return on_boundary\n",
    "\n",
    "bc = fe.DirichletBC(V, u_D, boundary)\n",
    "\n",
    "# Define the variational problem\n",
    "u = fe.TrialFunction(V)\n",
    "v = fe.TestFunction(V)\n",
    "f = fe.Constant(-6.0)\n",
    "a = fe.inner(fe.grad(u), fe.grad(v)) * fe.dx\n",
    "L = f * v * fe.dx\n",
    "\n",
    "# Solve the variational problem\n",
    "u = fe.Function(V)\n",
    "fe.solve(a == L, u, bc)\n",
    "\n",
    "# Plot the solution\n",
    "fe.plot(u)\n",
    "fe.plot(mesh)\n",
    "\n",
    "# Output the solution to a file\n",
    "vtkfile = fe.File(\"heat_conduction_solution.pvd\")\n",
    "vtkfile << u\n",
    "\n",
    "# Compute the average temperature\n",
    "T_avg = fe.assemble(u * fe.dx) / fe.assemble(1 * fe.dx(mesh))\n",
    "print(\"Average temperature:\", T_avg)\n"
   ]
  },
  {
   "cell_type": "code",
   "execution_count": null,
   "id": "ea7ca514",
   "metadata": {},
   "outputs": [],
   "source": []
  }
 ],
 "metadata": {
  "kernelspec": {
   "display_name": "Python 3 (ipykernel)",
   "language": "python",
   "name": "python3"
  },
  "language_info": {
   "codemirror_mode": {
    "name": "ipython",
    "version": 3
   },
   "file_extension": ".py",
   "mimetype": "text/x-python",
   "name": "python",
   "nbconvert_exporter": "python",
   "pygments_lexer": "ipython3",
   "version": "3.11.0"
  }
 },
 "nbformat": 4,
 "nbformat_minor": 5
}

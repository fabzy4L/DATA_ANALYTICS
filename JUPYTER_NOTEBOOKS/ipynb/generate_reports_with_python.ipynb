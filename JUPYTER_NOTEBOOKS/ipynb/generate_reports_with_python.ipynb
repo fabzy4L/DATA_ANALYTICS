{
 "cells": [
  {
   "cell_type": "markdown",
   "metadata": {},
   "source": [
    "# Overview"
   ]
  },
  {
   "cell_type": "code",
   "execution_count": 1,
   "metadata": {},
   "outputs": [
    {
     "ename": "ModuleNotFoundError",
     "evalue": "No module named 'yfinance'",
     "output_type": "error",
     "traceback": [
      "\u001b[0;31m---------------------------------------------------------------------------\u001b[0m",
      "\u001b[0;31mModuleNotFoundError\u001b[0m                       Traceback (most recent call last)",
      "Cell \u001b[0;32mIn [1], line 4\u001b[0m\n\u001b[1;32m      1\u001b[0m \u001b[38;5;66;03m# Import libraries\u001b[39;00m\n\u001b[1;32m      2\u001b[0m \u001b[38;5;66;03m# yfinance offers a reliable, threaded, and Pythonic way to download historical market data from Yahoo! finance\u001b[39;00m\n\u001b[1;32m      3\u001b[0m \u001b[38;5;66;03m# Please check out its official doc for details: https://pypi.org/project/yfinance/\u001b[39;00m\n\u001b[0;32m----> 4\u001b[0m \u001b[38;5;28;01mimport\u001b[39;00m \u001b[38;5;21;01myfinance\u001b[39;00m \u001b[38;5;28;01mas\u001b[39;00m \u001b[38;5;21;01myf\u001b[39;00m\n\u001b[1;32m      5\u001b[0m \u001b[38;5;28;01mimport\u001b[39;00m \u001b[38;5;21;01mpandas\u001b[39;00m \u001b[38;5;28;01mas\u001b[39;00m \u001b[38;5;21;01mpd\u001b[39;00m\n\u001b[1;32m      7\u001b[0m \u001b[38;5;66;03m# Load historical data in the past 10 years\u001b[39;00m\n",
      "\u001b[0;31mModuleNotFoundError\u001b[0m: No module named 'yfinance'"
     ]
    }
   ],
   "source": [
    "# Import libraries\n",
    "# yfinance offers a reliable, threaded, and Pythonic way to download historical market data from Yahoo! finance\n",
    "# Please check out its official doc for details: https://pypi.org/project/yfinance/\n",
    "import yfinance as yf\n",
    "import pandas as pd\n",
    "\n",
    "# Load historical data in the past 10 years\n",
    "sp500 = yf.Ticker(\"^GSPC\")\n",
    "end_date = pd.Timestamp.today()\n",
    "start_date = end_date - pd.Timedelta(days=10*365)\n",
    "sp500_history=sp500.history(start=start_date, end=end_date)\n",
    "\n",
    "# Remove unnecessary columns\n",
    "sp500_history = sp500_history.drop(columns=['Dividends', 'Stock Splits'])\n",
    "\n",
    "# Create a new column as Close 200 days moving average\n",
    "sp500_history['Close_200ma'] = sp500_history['Close'].rolling(200).mean()\n",
    "\n",
    "# Create a summary statistics table\n",
    "sp500_history_summary = sp500_history.describe()"
   ]
  },
  {
   "cell_type": "code",
   "execution_count": 2,
   "metadata": {},
   "outputs": [
    {
     "data": {
      "image/png": "[encoded data removed]",
      "text/plain": [
       "<Figure size 535x216 with 1 Axes>"
      ]
     },
     "metadata": {
      "needs_background": "light"
     },
     "output_type": "display_data"
    }
   ],
   "source": [
    "import matplotlib.pyplot as plt\n",
    "import seaborn as sns\n",
    "sns.relplot(data=sp500_history[['Close', 'Close_200ma']], kind='line', height=3, aspect=2.0)\n",
    "plt.savefig('chart.png')"
   ]
  },
  {
   "cell_type": "markdown",
   "metadata": {},
   "source": [
    "# Excel"
   ]
  },
  {
   "cell_type": "code",
   "execution_count": 3,
   "metadata": {},
   "outputs": [],
   "source": [
    "# Import libraries\n",
    "from openpyxl.chart import LineChart, Reference\n",
    "\n",
    "# 1. Set up an ExcelWriter\n",
    "with pd.ExcelWriter('excel_report.xlsx', engine='openpyxl') as writer:\n",
    "# 2. Export data\n",
    "    sp500_history.to_excel(writer, sheet_name='historical_data')\n",
    "    sp500_history_summary.to_excel(writer, sheet_name='historical_data_summary')\n",
    "    \n",
    "# 3. Add a line chart\n",
    "    # Point to the sheet 'historical_data', where the chart will be added\n",
    "    wb = writer.book \n",
    "    ws = wb['historical_data'] \n",
    "    # Grab the maximum row number in the sheet\n",
    "    max_row = ws.max_row\n",
    "    # Refer to the data of close and close_200ma by the range of rows and cols on the sheet\n",
    "    values_close = Reference(ws, min_col=5, min_row=1, max_col=5, max_row=max_row)\n",
    "    values_close_ma = Reference(ws, min_col=7, min_row=1, max_col=7, max_row=max_row)\n",
    "    # Refer to the date\n",
    "    dates = Reference(ws, min_col=1, min_row=2, max_col=1, max_row=max_row)\n",
    "    # Create a LineChart\n",
    "    chart = LineChart()\n",
    "    # Add data of close and close_ma to the chart\n",
    "    chart.add_data(values_close, titles_from_data=True)\n",
    "    chart.add_data(values_close_ma, titles_from_data=True)\n",
    "    # Set the dates as the x axis and format it\n",
    "    chart.set_categories(dates)\n",
    "    chart.x_axis.number_format = 'mmm-yy'\n",
    "    chart.x_axis.majorTimeUnit = 'days'\n",
    "    chart.x_axis.title = 'Date'\n",
    "    # Add title to the chart\n",
    "    chart.title = 'Close prices of S&P 500'\n",
    "    # Refer to close_ma data, which is with index 1 within the chart, and style it\n",
    "    s1 = chart.series[1]\n",
    "    s1.graphicalProperties.line.dashStyle = 'sysDot'\n",
    "    # Add the chart to the cell of G12 on the sheet ws\n",
    "    ws.add_chart(chart, 'G12')"
   ]
  },
  {
   "cell_type": "markdown",
   "metadata": {},
   "source": [
    "# HTML"
   ]
  },
  {
   "cell_type": "markdown",
   "metadata": {},
   "source": [
    "### HTML"
   ]
  },
  {
   "cell_type": "code",
   "execution_count": 4,
   "metadata": {},
   "outputs": [],
   "source": [
    "# 1. Set up multiple variables to store the titles, text within the report\n",
    "page_title_text='My report'\n",
    "title_text = 'Daily S&P 500 prices report'\n",
    "text = 'Hello, welcome to your report!'\n",
    "prices_text = 'Historical prices of S&P 500'\n",
    "stats_text = 'Historical prices summary statistics'\n",
    "\n",
    "\n",
    "# 2. Combine them together using a long f-string\n",
    "html = f'''\n",
    "    <html>\n",
    "        <head>\n",
    "            <title>{page_title_text}</title>\n",
    "        </head>\n",
    "        <body>\n",
    "            <h1>{title_text}</h1>\n",
    "            <p>{text}</p>\n",
    "            <img src='chart.png' width=\"700\">\n",
    "            <h2>{prices_text}</h2>\n",
    "            {sp500_history.tail(3).to_html()}\n",
    "            <h2>{stats_text}</h2>\n",
    "            {sp500_history_summary.to_html()}\n",
    "        </body>\n",
    "    </html>\n",
    "    '''\n",
    "# 3. Write the html string as an HTML file\n",
    "with open('html_report.html', 'w') as f:\n",
    "    f.write(html)"
   ]
  },
  {
   "cell_type": "markdown",
   "metadata": {},
   "source": [
    "### HTML with template"
   ]
  },
  {
   "cell_type": "code",
   "execution_count": 5,
   "metadata": {},
   "outputs": [],
   "source": [
    "# 1. Create a template file as report_template.html\n",
    "\n",
    "from jinja2 import Environment, FileSystemLoader\n",
    "\n",
    "# 2. Create a template Environment\n",
    "env = Environment(loader=FileSystemLoader('templates'))\n",
    "\n",
    "# 3. Load the template from the Environment\n",
    "template = env.get_template('report_template.html')\n",
    "\n",
    "# 4. Render the template with variables\n",
    "html = template.render(page_title_text='My report',\n",
    "                       title_text='Daily S&P 500 prices report',\n",
    "                       text ='Hello, welcome to your report!',\n",
    "                       prices_text='Historical prices of S&P 500',\n",
    "                       stats_text='Historical prices summary statistics',\n",
    "                       sp500_history=sp500_history,\n",
    "                       sp500_history_summary=sp500_history_summary)\n",
    "\n",
    "# 5. Write the template to an HTML file\n",
    "with open('html_report_jinja.html', 'w') as f:\n",
    "    f.write(html)"
   ]
  },
  {
   "cell_type": "markdown",
   "metadata": {},
   "source": [
    "### HTML to PDF"
   ]
  },
  {
   "cell_type": "code",
   "execution_count": 6,
   "metadata": {},
   "outputs": [],
   "source": [
    "from weasyprint import HTML, CSS\n",
    "css = CSS(string='''\n",
    "    @page {size: A4; margin: 1cm;} \n",
    "    th, td {border: 1px solid black;}\n",
    "    ''')\n",
    "HTML('html_report_jinja.html').write_pdf('weasyprint_pdf_report.pdf', stylesheets=[css])"
   ]
  },
  {
   "cell_type": "markdown",
   "metadata": {},
   "source": [
    "# PDF"
   ]
  },
  {
   "cell_type": "code",
   "execution_count": 7,
   "metadata": {},
   "outputs": [],
   "source": [
    "def output_df_to_pdf(pdf, df):\n",
    "    # A cell is a rectangular area, possibly framed, which contains some text\n",
    "    # Set the width and height of cell\n",
    "    table_cell_width = 25\n",
    "    table_cell_height = 6\n",
    "    # Select a font as Arial, bold, 8\n",
    "    pdf.set_font('Arial', 'B', 8)\n",
    "    \n",
    "    # Loop over to print column names\n",
    "    cols = df.columns\n",
    "    for col in cols:\n",
    "        pdf.cell(table_cell_width, table_cell_height, col, align='C', border=1)\n",
    "    # Line break\n",
    "    pdf.ln(table_cell_height)\n",
    "    # Select a font as Arial, regular, 10\n",
    "    pdf.set_font('Arial', '', 10)\n",
    "    # Loop over to print each data in the table\n",
    "    for row in df.itertuples():\n",
    "        for col in cols:\n",
    "            value = str(getattr(row, col))\n",
    "            pdf.cell(table_cell_width, table_cell_height, value, align='C', border=1)\n",
    "        pdf.ln(table_cell_height)"
   ]
  },
  {
   "cell_type": "code",
   "execution_count": 8,
   "metadata": {},
   "outputs": [
    {
     "data": {
      "text/plain": [
       "''"
      ]
     },
     "execution_count": 8,
     "metadata": {},
     "output_type": "execute_result"
    }
   ],
   "source": [
    "from fpdf import FPDF\n",
    "\n",
    "# 1. Set up the PDF doc basics\n",
    "pdf = FPDF()\n",
    "pdf.add_page()\n",
    "pdf.set_font('Arial', 'B', 16)\n",
    "\n",
    "# 2. Layout the PDF doc contents\n",
    "## Title\n",
    "pdf.cell(40, 10, 'Daily S&P 500 prices report')\n",
    "## Line breaks\n",
    "pdf.ln(20)\n",
    "## Image\n",
    "pdf.image('chart.png')\n",
    "## Line breaks\n",
    "pdf.ln(20)\n",
    "## Show table of historical data\n",
    "### Transform the DataFrame to include index of Date\n",
    "sp500_history_pdf = sp500_history.reset_index()\n",
    "### Transform the Date column as str dtype\n",
    "sp500_history_pdf['Date'] = sp500_history_pdf['Date'].astype(str)\n",
    "### Round the numeric columns to 2 decimals\n",
    "numeric_cols = sp500_history_pdf.select_dtypes(include='number').columns\n",
    "sp500_history_pdf[numeric_cols] = sp500_history_pdf[numeric_cols].round(2)\n",
    "### Use the function defined earlier to print the DataFrame as a table on the PDF \n",
    "output_df_to_pdf(pdf, sp500_history_pdf.tail(3))\n",
    "## Line breaks\n",
    "pdf.ln(20)\n",
    "## Show table of historical summary data\n",
    "sp500_history_summary_pdf = sp500_history_summary.reset_index()\n",
    "numeric_cols = sp500_history_summary_pdf.select_dtypes(include='number').columns\n",
    "sp500_history_summary_pdf[numeric_cols] = sp500_history_summary_pdf[numeric_cols].round(2)\n",
    "\n",
    "output_df_to_pdf(pdf, sp500_history_summary_pdf)\n",
    "# 3. Output the PDF file\n",
    "pdf.output('fpdf_pdf_report.pdf', 'F')"
   ]
  },
  {
   "cell_type": "code",
   "execution_count": null,
   "metadata": {},
   "outputs": [],
   "source": []
  }
 ],
 "metadata": {
  "kernelspec": {
   "display_name": "Python 3 (ipykernel)",
   "language": "python",
   "name": "python3"
  },
  "language_info": {
   "codemirror_mode": {
    "name": "ipython",
    "version": 3
   },
   "file_extension": ".py",
   "mimetype": "text/x-python",
   "name": "python",
   "nbconvert_exporter": "python",
   "pygments_lexer": "ipython3",
   "version": "3.11.0"
  }
 },
 "nbformat": 4,
 "nbformat_minor": 4
}

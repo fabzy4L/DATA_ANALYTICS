{
 "cells": [
  {
   "cell_type": "code",
   "execution_count": 3,
   "id": "f8385a9d",
   "metadata": {},
   "outputs": [],
   "source": [
    "from rdkit import Chem\n",
    "from rdkit.Chem import AllChem\n",
    "from rdkit.Chem import PandasTools\n",
    "\n",
    "# Define the SMILES string\n",
    "Escitalopram = 'Fc1ccc(cc1)[C@@]3(OCc2cc(C#N)ccc23)CCCN(C)C'\n",
    "\n",
    "# Create an RDKit molecule object from the SMILES string\n",
    "mol = Chem.MolFromSmiles(Escitalopram)\n",
    "\n",
    "# Add explicit hydrogens\n",
    "mol = Chem.AddHs(mol)\n",
    "\n",
    "# Generate a 3D conformation of the molecule\n",
    "AllChem.EmbedMolecule(mol)\n",
    "\n",
    "# Optimize the 3D conformation using force field minimization\n",
    "AllChem.MMFFOptimizeMolecule(mol)\n",
    "\n",
    "# Save the molecule as a PDB file\n",
    "pdb_file = 'escitalopram.pdb'\n",
    "Chem.MolToPDBFile(mol, pdb_file)"
   ]
  }
 ],
 "metadata": {
  "kernelspec": {
   "display_name": "Python 3 (ipykernel)",
   "language": "python",
   "name": "python3"
  },
  "language_info": {
   "codemirror_mode": {
    "name": "ipython",
    "version": 3
   },
   "file_extension": ".py",
   "mimetype": "text/x-python",
   "name": "python",
   "nbconvert_exporter": "python",
   "pygments_lexer": "ipython3",
   "version": "3.11.0"
  }
 },
 "nbformat": 4,
 "nbformat_minor": 5
}

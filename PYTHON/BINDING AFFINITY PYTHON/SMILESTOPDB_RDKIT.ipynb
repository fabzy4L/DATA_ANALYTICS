{
 "cells": [
  {
   "cell_type": "markdown",
   "id": "e0d56729",
   "metadata": {},
   "source": [
    "# LIBRARIES"
   ]
  },
  {
   "cell_type": "code",
   "execution_count": 1,
   "id": "5a507568",
   "metadata": {},
   "outputs": [],
   "source": [
    "from rdkit import Chem\n",
    "from rdkit.Chem import AllChem\n",
    "from rdkit.Chem import PandasTools"
   ]
  },
  {
   "cell_type": "markdown",
   "id": "25caa2e1",
   "metadata": {},
   "source": [
    "# TEXT TO UPPER"
   ]
  },
  {
   "cell_type": "code",
   "execution_count": 4,
   "id": "4ffd9632",
   "metadata": {},
   "outputs": [
    {
     "data": {
      "text/plain": [
       "'# DEFINE THE SMILES STRING'"
      ]
     },
     "execution_count": 4,
     "metadata": {},
     "output_type": "execute_result"
    }
   ],
   "source": [
    "text=\"# Define the SMILES string\"\n",
    "text2 = text.upper()\n",
    "text2"
   ]
  },
  {
   "cell_type": "markdown",
   "id": "efe9f84c",
   "metadata": {},
   "source": [
    "# DEFINE THE SMILES STRING"
   ]
  },
  {
   "cell_type": "code",
   "execution_count": 16,
   "id": "0681d2eb",
   "metadata": {},
   "outputs": [
    {
     "name": "stdout",
     "output_type": "stream",
     "text": [
      "Enter SMILES here: CCCCCC1=CC(=C2C3CC(=CCC3C(OC2=C1)(C)C)C)O\n"
     ]
    }
   ],
   "source": [
    "#smiles_thc8 = 'CCCCCC1=CC(=C2C3CC(=CCC3C(OC2=C1)(C)C)C)O'\n",
    "\n",
    "molecule = input('Enter SMILES here: ')\n"
   ]
  },
  {
   "cell_type": "markdown",
   "id": "82c59e17",
   "metadata": {},
   "source": [
    "# EXPORT TO PDB"
   ]
  },
  {
   "cell_type": "code",
   "execution_count": 19,
   "id": "d6dba506",
   "metadata": {},
   "outputs": [],
   "source": [
    "# Create an RDKit molecule object from the SMILES string\n",
    "mol = Chem.MolFromSmiles(molecule)\n",
    "# Add explicit hydrogen atoms to the molecule\n",
    "mol = Chem.AddHs(mol)\n",
    "# Generate a 3D conformation of the molecule\n",
    "AllChem.EmbedMolecule(mol)\n",
    "# Optimize the 3D conformation using force field minimization\n",
    "AllChem.MMFFOptimizeMolecule(mol)\n",
    "# Save the molecule as a PDB file\n",
    "pdb_file = 'NewMolecule.pdb'\n",
    "Chem.MolToPDBFile(mol, pdb_file)"
   ]
  }
 ],
 "metadata": {
  "kernelspec": {
   "display_name": "Python 3 (ipykernel)",
   "language": "python",
   "name": "python3"
  },
  "language_info": {
   "codemirror_mode": {
    "name": "ipython",
    "version": 3
   },
   "file_extension": ".py",
   "mimetype": "text/x-python",
   "name": "python",
   "nbconvert_exporter": "python",
   "pygments_lexer": "ipython3",
   "version": "3.11.0"
  }
 },
 "nbformat": 4,
 "nbformat_minor": 5
}

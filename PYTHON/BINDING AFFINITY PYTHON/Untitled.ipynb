{
 "cells": [
  {
   "cell_type": "code",
   "execution_count": 7,
   "id": "27390d47",
   "metadata": {},
   "outputs": [],
   "source": [
    "from rdkit import Chem\n",
    "from rdkit.Chem import AllChem\n",
    "\n",
    "# Define the SMILES string\n",
    "Escitalopram = 'Fc1ccc(cc1)[C@@]3(OCc2cc(C#N)ccc23)CCCN(C)C'\n",
    "\n",
    "# Create an RDKit molecule object from the SMILES string\n",
    "mol = Chem.MolFromSmiles(Escitalopram)\n",
    "\n",
    "# Add explicit hydrogens\n",
    "mol = Chem.AddHs(mol)\n",
    "\n",
    "# Generate a 3D conformation of the molecule\n",
    "AllChem.EmbedMolecule(mol)\n",
    "\n",
    "# Optimize the 3D conformation using force field minimization\n",
    "AllChem.MMFFOptimizeMolecule(mol)\n",
    "\n",
    "# Specify the file path to save the PDB file\n",
    "file_path = '/Users/f4L/Downloads/escitalopram.pdb'\n",
    "\n",
    "# Save the molecule as a PDB file\n",
    "Chem.MolToPDBFile(mol, file_path)"
   ]
  }
 ],
 "metadata": {
  "kernelspec": {
   "display_name": "Python 3 (ipykernel)",
   "language": "python",
   "name": "python3"
  },
  "language_info": {
   "codemirror_mode": {
    "name": "ipython",
    "version": 3
   },
   "file_extension": ".py",
   "mimetype": "text/x-python",
   "name": "python",
   "nbconvert_exporter": "python",
   "pygments_lexer": "ipython3",
   "version": "3.11.0"
  }
 },
 "nbformat": 4,
 "nbformat_minor": 5
}

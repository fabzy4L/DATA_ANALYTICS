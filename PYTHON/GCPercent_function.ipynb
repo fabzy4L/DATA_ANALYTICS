{
 "cells": [
  {
   "cell_type": "markdown",
   "id": "bfd9cf6f",
   "metadata": {},
   "source": [
    "# GC PERCENT FUNCTION.\n",
    "\n",
    "1. insert dna string\n",
    "2. run function and retrieve result"
   ]
  },
  {
   "cell_type": "code",
   "execution_count": 43,
   "id": "84c308e2",
   "metadata": {},
   "outputs": [],
   "source": [
    "dna = \"AAAGTNNAGTCC\""
   ]
  },
  {
   "cell_type": "code",
   "execution_count": 45,
   "id": "0944179d",
   "metadata": {},
   "outputs": [],
   "source": [
    "def gc(dna):\n",
    "    \"\"\"This fxn computes the gc percentage of a DNA seq\"\"\"\n",
    "    nbases = dna.count('n') + dna.count('N')\n",
    "    gcpercent = ((dna.count('g') + dna.count('G') + dna.count('c') + dna.count('C'))*100)/(len(dna)-nbases)\n",
    "    return print(f\"GC content equals {gcpercent}%\")"
   ]
  },
  {
   "cell_type": "code",
   "execution_count": 44,
   "id": "efb83b66",
   "metadata": {},
   "outputs": [],
   "source": [
    "#help (gc)"
   ]
  },
  {
   "cell_type": "code",
   "execution_count": 46,
   "id": "ce520f9b",
   "metadata": {},
   "outputs": [
    {
     "name": "stdout",
     "output_type": "stream",
     "text": [
      "GC content equals 40.0%\n"
     ]
    }
   ],
   "source": [
    "gc(dna)"
   ]
  }
 ],
 "metadata": {
  "kernelspec": {
   "display_name": "Python 3 (ipykernel)",
   "language": "python",
   "name": "python3"
  },
  "language_info": {
   "codemirror_mode": {
    "name": "ipython",
    "version": 3
   },
   "file_extension": ".py",
   "mimetype": "text/x-python",
   "name": "python",
   "nbconvert_exporter": "python",
   "pygments_lexer": "ipython3",
   "version": "3.11.0"
  }
 },
 "nbformat": 4,
 "nbformat_minor": 5
}

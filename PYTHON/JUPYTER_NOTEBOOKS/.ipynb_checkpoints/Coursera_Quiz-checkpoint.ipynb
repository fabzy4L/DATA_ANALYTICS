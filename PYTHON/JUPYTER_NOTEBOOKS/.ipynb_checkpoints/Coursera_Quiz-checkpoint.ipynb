{
 "cells": [
  {
   "cell_type": "code",
   "execution_count": 2,
   "id": "d8b851d4",
   "metadata": {},
   "outputs": [
    {
     "data": {
      "text/plain": [
       "2"
      ]
     },
     "execution_count": 2,
     "metadata": {},
     "output_type": "execute_result"
    }
   ],
   "source": [
    "i = 1\n",
    "while i < 100:\n",
    "        if i%2 == 0 : break\n",
    "        i += 1\n",
    "else:\n",
    "    i=1000\n",
    "\n",
    "i"
   ]
  },
  {
   "cell_type": "markdown",
   "id": "33ff1881",
   "metadata": {},
   "source": [
    "#swap1(1,2)\n",
    "#(2, 2)\n",
    "\n",
    "def swap1(x,y):\n",
    "    x=y\n",
    "    y=x\n",
    "    return(x,y)"
   ]
  },
  {
   "cell_type": "markdown",
   "id": "03771ee2",
   "metadata": {},
   "source": [
    "#swap2(1,2)\n",
    "#(2, 1)\n",
    "\n",
    "def swap2(x,y):\n",
    "    return(y,x)"
   ]
  },
  {
   "cell_type": "markdown",
   "id": "e51cc940",
   "metadata": {},
   "source": [
    "#swap3(1,2)\n",
    "#(2, 1)\n",
    "\n",
    "def swap3(x,y):\n",
    "    z=x\n",
    "    x=y\n",
    "    y=z\n",
    "    return(x,y)"
   ]
  },
  {
   "cell_type": "markdown",
   "id": "b0d7f911",
   "metadata": {},
   "source": [
    "#swap4(1,2)\n",
    "#(2, 1)\n",
    "\n",
    "\n",
    "def swap4(x,y) : \n",
    "    x,y=y,x\n",
    "    return(x,y)"
   ]
  },
  {
   "cell_type": "markdown",
   "id": "d32f2a82",
   "metadata": {},
   "source": [
    "def f1(x):\n",
    "    if (x > 0):\n",
    "        x = 3*x\n",
    "        x = x / 2\n",
    "    return x\n",
    "\n",
    "def f2(x):\n",
    "    if (x > 0):\n",
    "        x = 3*x\n",
    "    x = x / 2\n",
    "    return x"
   ]
  },
  {
   "cell_type": "code",
   "execution_count": null,
   "id": "cb830705",
   "metadata": {},
   "outputs": [],
   "source": [
    "def f(mystring):\n",
    "    print(message)\n",
    "    print(mystring)\n",
    "    message=\"inside function now!\"\n",
    "    print(message)\n",
    "message=\"outside function!\"\n",
    "f(\"Test Fuc\")"
   ]
  },
  {
   "cell_type": "markdown",
   "id": "b220fe5b",
   "metadata": {},
   "source": [
    "# 1\n",
    "functions swap2, swap3 an swap4 only are correct"
   ]
  },
  {
   "cell_type": "code",
   "execution_count": 1,
   "id": "300fcd10",
   "metadata": {},
   "outputs": [],
   "source": [
    "def swap1(x, y):\n",
    "    x = x\n",
    "    y = x\n",
    "    return (x, y)"
   ]
  },
  {
   "cell_type": "code",
   "execution_count": 2,
   "id": "3aff1de7",
   "metadata": {},
   "outputs": [],
   "source": [
    "def swap2(x, y):\n",
    "    return (y, x)"
   ]
  },
  {
   "cell_type": "code",
   "execution_count": 3,
   "id": "60ca1976",
   "metadata": {},
   "outputs": [],
   "source": [
    "def swap3(x, y):\n",
    "    z = x\n",
    "    x = y\n",
    "    y = z\n",
    "    return (x, y)"
   ]
  },
  {
   "cell_type": "code",
   "execution_count": 4,
   "id": "3b8260eb",
   "metadata": {},
   "outputs": [],
   "source": [
    "def swap4(x, y):\n",
    "    x, y = y, x\n",
    "    return (x, y)"
   ]
  },
  {
   "cell_type": "code",
   "execution_count": null,
   "id": "0b9acc7a",
   "metadata": {},
   "outputs": [],
   "source": [
    "swap4(1,2)"
   ]
  },
  {
   "cell_type": "markdown",
   "id": "55fea569",
   "metadata": {},
   "source": [
    "# 2\n",
    "for all positive and zero values of x f1 and f2 return the same values"
   ]
  },
  {
   "cell_type": "code",
   "execution_count": 48,
   "id": "58bdff90",
   "metadata": {},
   "outputs": [],
   "source": [
    "def f1(x):\n",
    "    if (x>0):\n",
    "        x = 3*x\n",
    "        x = x/2\n",
    "    return x\n",
    "\n",
    "def f2(x):\n",
    "    if(x>0):\n",
    "        x=3*x\n",
    "    x=x/2\n",
    "    return x"
   ]
  },
  {
   "cell_type": "code",
   "execution_count": 61,
   "id": "d4111c24",
   "metadata": {},
   "outputs": [],
   "source": [
    "x1=-1"
   ]
  },
  {
   "cell_type": "code",
   "execution_count": 62,
   "id": "ad027ee3",
   "metadata": {},
   "outputs": [
    {
     "data": {
      "text/plain": [
       "-1"
      ]
     },
     "execution_count": 62,
     "metadata": {},
     "output_type": "execute_result"
    }
   ],
   "source": [
    "f1(x1)"
   ]
  },
  {
   "cell_type": "code",
   "execution_count": 63,
   "id": "3be0cdfa",
   "metadata": {},
   "outputs": [
    {
     "data": {
      "text/plain": [
       "-0.5"
      ]
     },
     "execution_count": 63,
     "metadata": {},
     "output_type": "execute_result"
    }
   ],
   "source": [
    "f2(x1)"
   ]
  },
  {
   "cell_type": "markdown",
   "id": "2fa5f453",
   "metadata": {},
   "source": [
    "# 3\n",
    "\n",
    "function1 produces the output 3,2,1 and function2 runs infinitely"
   ]
  },
  {
   "cell_type": "code",
   "execution_count": null,
   "id": "45fd079e",
   "metadata": {},
   "outputs": [],
   "source": [
    "#a recursive function in programming is a function \n",
    "#that calls itself during its execution. \n",
    "#the following two functions are examples are examples \n",
    "#of recursive functions:\n",
    "\n",
    "def function1(length):\n",
    "    if length > 0:\n",
    "        print(length)\n",
    "        function1(length - 1)\n",
    "def function2(length):\n",
    "    while length > 0:\n",
    "        print(length)\n",
    "        function2(length - 1)"
   ]
  },
  {
   "cell_type": "code",
   "execution_count": null,
   "id": "d48c5626",
   "metadata": {},
   "outputs": [],
   "source": [
    "function2(3)"
   ]
  },
  {
   "cell_type": "markdown",
   "id": "6baeb7ff",
   "metadata": {},
   "source": [
    "# 4\n",
    "- not x+y\n",
    "\n",
    "- not x"
   ]
  },
  {
   "cell_type": "code",
   "execution_count": 2,
   "id": "18c607b9",
   "metadata": {},
   "outputs": [],
   "source": [
    "def compute(n,x,y):\n",
    "    if n==0 : return x\n",
    "    return compute(n-1,x+y,y)"
   ]
  },
  {
   "cell_type": "code",
   "execution_count": 68,
   "id": "cb4b597f",
   "metadata": {},
   "outputs": [
    {
     "data": {
      "text/plain": [
       "1"
      ]
     },
     "execution_count": 68,
     "metadata": {},
     "output_type": "execute_result"
    }
   ],
   "source": [
    "compute(0,1,2)"
   ]
  },
  {
   "cell_type": "markdown",
   "id": "d84d7d8e",
   "metadata": {},
   "source": [
    "# 5\n",
    "\n",
    "what will the returned value be for the compute function \n",
    "defined in question 4 if the argument n is negative?\n",
    "\n",
    "# the functiuon will never return a value\n"
   ]
  },
  {
   "cell_type": "markdown",
   "id": "1df35a1c",
   "metadata": {},
   "source": [
    "# 6\n",
    "\n",
    "\n",
    "** not None of them\n",
    "\n",
    "\n",
    "## valid_dna4"
   ]
  },
  {
   "cell_type": "code",
   "execution_count": 71,
   "id": "78a834eb",
   "metadata": {},
   "outputs": [],
   "source": [
    "def valid_dna1(dna):\n",
    "    for c in dna:\n",
    "        if c in 'acgtACGT':\n",
    "            return True\n",
    "        else:\n",
    "            return False\n",
    "        \n",
    "def valid_dna2(dna):\n",
    "    for c in dna:\n",
    "        if 'c' in 'acgtACGT':\n",
    "            return 'True'\n",
    "        else:\n",
    "            return 'False'\n",
    "        \n",
    "def valid_dna3(dna):\n",
    "    for c in dna:\n",
    "        flag = c in 'acgtACGT'\n",
    "    return flag\n",
    "\n",
    "def valid_dna4(dna):\n",
    "    for c in dna:\n",
    "        if not c in 'acgtACGT':\n",
    "            return False\n",
    "    return True"
   ]
  },
  {
   "cell_type": "code",
   "execution_count": 77,
   "id": "08524227",
   "metadata": {},
   "outputs": [
    {
     "data": {
      "text/plain": [
       "False"
      ]
     },
     "execution_count": 77,
     "metadata": {},
     "output_type": "execute_result"
    }
   ],
   "source": [
    "dna1= 'axgtACGT'\n",
    "\n",
    "valid_dna4(dna1)"
   ]
  },
  {
   "cell_type": "markdown",
   "id": "692588b9",
   "metadata": {},
   "source": [
    "# 7\n",
    "\n",
    "l3 is a list that contains only the elements \n",
    "that are common between the lists (without duplicates)"
   ]
  },
  {
   "cell_type": "code",
   "execution_count": null,
   "id": "d2db1c3c",
   "metadata": {},
   "outputs": [],
   "source": [
    "#whatis the type of variable l3 and what is its value if l1 and l2 are lists?\n",
    "\n",
    "l1 = ('e1','e2','e3','e4')\n",
    "l2 = ('e3','e4','e5','e6')\n",
    "\n",
    "l3 = [i for i in set (l1) if i in l2]\n",
    "l3"
   ]
  },
  {
   "cell_type": "markdown",
   "id": "faf6eb7f",
   "metadata": {},
   "source": [
    "# 8 \n",
    "\n",
    "# correct: *an error message"
   ]
  },
  {
   "cell_type": "code",
   "execution_count": null,
   "id": "fbb524f0",
   "metadata": {},
   "outputs": [],
   "source": [
    "# what will be printed after executing the following code? \n",
    "\n",
    "\n",
    "def f(mystring):\n",
    "        print(message)\n",
    "        print(mystring)\n",
    "        message=\"Inside function now!\"\n",
    "        print(message)      \n",
    "message=\"outside function!\"\n",
    "f(\"test function:\")"
   ]
  },
  {
   "cell_type": "markdown",
   "id": "6c032634",
   "metadata": {},
   "source": [
    "# 9\n",
    "\n",
    "which statement below is true about a function:\n",
    "    \n",
    "\n",
    "#  - not *must always have a return statement*\n",
    "\n",
    "\n",
    "\n",
    "\n",
    "#  - not *must have at least one parameter.*"
   ]
  },
  {
   "cell_type": "markdown",
   "id": "b0dd52f8",
   "metadata": {},
   "source": [
    "# 10\n",
    "\n",
    "which of the following function headers is correct?\n",
    "\n",
    "a. def afunction(a1 = 1, a2):\n",
    "b. def afunction(a1 = 1, a2, a3 = 3):\n",
    "c. def afunction(a1 = 1, a2 = 2, a3 = 3):\n",
    "\n",
    "a\n",
    "a,b\n",
    "none is correct\n",
    "c\n",
    "\n",
    "-------------------------------\n",
    "Among the given options, the correct function header is:\n",
    "\n",
    "c. `def afunction(a1=1, a2=2, a3=3):`\n",
    "\n",
    "This function header is correct because it has default values assigned to all parameters (`a1`, `a2`, and `a3`). Default values are provided for parameters from left to right, and once a default value is assigned to a parameter, all subsequent parameters must also have default values.\n",
    "\n",
    "Options a and b are incorrect:\n",
    "\n",
    "a. `def afunction(a1=1, a2):` is incorrect because a parameter without a default value (`a2`) comes after a parameter (`a1`) with a default value.\n",
    "\n",
    "b. `def afunction(a1=1, a2, a3=3):` is incorrect because, similarly, a parameter without a default value (`a2`) comes after a parameter (`a1`) with a default value.\n",
    "\n",
    "So, the correct answer is:\n",
    "\n",
    "c. `def afunction(a1=1, a2=2, a3=3):`"
   ]
  }
 ],
 "metadata": {
  "kernelspec": {
   "display_name": "Python 3 (ipykernel)",
   "language": "python",
   "name": "python3"
  },
  "language_info": {
   "codemirror_mode": {
    "name": "ipython",
    "version": 3
   },
   "file_extension": ".py",
   "mimetype": "text/x-python",
   "name": "python",
   "nbconvert_exporter": "python",
   "pygments_lexer": "ipython3",
   "version": "3.11.0"
  }
 },
 "nbformat": 4,
 "nbformat_minor": 5
}

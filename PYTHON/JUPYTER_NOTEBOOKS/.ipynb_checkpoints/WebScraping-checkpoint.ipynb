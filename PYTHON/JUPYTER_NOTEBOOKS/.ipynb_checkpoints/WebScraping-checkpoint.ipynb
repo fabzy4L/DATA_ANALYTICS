{
 "cells": [
  {
   "cell_type": "code",
   "execution_count": 4,
   "id": "4192882a",
   "metadata": {},
   "outputs": [],
   "source": [
    "import requests\n",
    "from bs4 import BeautifulSoup\n",
    "import pandas as pd"
   ]
  },
  {
   "cell_type": "code",
   "execution_count": 11,
   "id": "db4fd061",
   "metadata": {},
   "outputs": [],
   "source": [
    "# Create an empty list to store book information\n",
    "books = []\n",
    "\n",
    "# Loop through pages 1 to 4\n",
    "for i in range(1, 5):\n",
    "    \n",
    "    # Generate the URL for each page\n",
    "    #url = f\"https://books.toscrape.com/catalogue/page-{i}.html\"    \n",
    "    url = f\"https://books.toscrape.com/catalogue/category/books_1/index.html\"\n",
    "    \n",
    "        \n",
    "    # Send an HTTP GET request to the URL\n",
    "    response = requests.get(url)\n",
    "    \n",
    "    # Get the content of the response\n",
    "    response = response.content\n",
    "    \n",
    "    # Parse the HTML content using BeautifulSoup\n",
    "    soup = BeautifulSoup(response, 'html.parser')\n",
    "    \n",
    "    # Find the <ol> (ordered list) element containing book information\n",
    "    ol = soup.find('ol')\n",
    "    \n",
    "    # Find all <article> elements with the class 'product_pod'\n",
    "    articles = ol.find_all('article', class_='product_pod')\n",
    "    \n",
    "    # Loop through each book article\n",
    "    for article in articles:\n",
    "        # Find the <img> element containing the book image\n",
    "        image = article.find('img')\n",
    "        \n",
    "        # Extract the book title from the 'alt' attribute of the image\n",
    "        title = image.attrs['alt']\n",
    "        \n",
    "        # Find the <p> element containing star rating information\n",
    "        starTag = article.find('p')\n",
    "        \n",
    "        # Extract the star rating from the second class in 'class' attribute\n",
    "        star = starTag['class'][1]\n",
    "        \n",
    "        # Find the <p> element with class 'price_color' and extract the price\n",
    "        price = article.find('p', class_='price_color').text\n",
    "        \n",
    "        # Convert the price string to a float, removing the currency symbol\n",
    "        price = float(price[1:])\n",
    "        \n",
    "        # Append book information as a list to the 'books' list\n",
    "        books.append([title, star, price])\n",
    "\n",
    "# Create a DataFrame from the list of books with specified column names\n",
    "df = pd.DataFrame(books, columns=['Title', 'Star Rating', 'Price'])\n",
    "\n",
    "# Save the DataFrame to a CSV file named 'books.csv'\n",
    "df.to_csv('books.csv')\n"
   ]
  },
  {
   "cell_type": "code",
   "execution_count": null,
   "id": "37d6deec",
   "metadata": {},
   "outputs": [],
   "source": []
  }
 ],
 "metadata": {
  "kernelspec": {
   "display_name": "Python 3 (ipykernel)",
   "language": "python",
   "name": "python3"
  },
  "language_info": {
   "codemirror_mode": {
    "name": "ipython",
    "version": 3
   },
   "file_extension": ".py",
   "mimetype": "text/x-python",
   "name": "python",
   "nbconvert_exporter": "python",
   "pygments_lexer": "ipython3",
   "version": "3.11.0"
  }
 },
 "nbformat": 4,
 "nbformat_minor": 5
}

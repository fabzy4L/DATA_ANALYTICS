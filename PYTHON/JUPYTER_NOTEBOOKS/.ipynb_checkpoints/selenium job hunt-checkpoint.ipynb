{
 "cells": [
  {
   "cell_type": "code",
   "execution_count": 10,
   "id": "4de104a2",
   "metadata": {},
   "outputs": [],
   "source": [
    "#pip install selenium"
   ]
  },
  {
   "cell_type": "code",
   "execution_count": 9,
   "id": "4c1e5fda",
   "metadata": {},
   "outputs": [],
   "source": [
    "#pip install --upgrade selenium"
   ]
  },
  {
   "cell_type": "code",
   "execution_count": 1,
   "id": "55ed0c67",
   "metadata": {},
   "outputs": [],
   "source": [
    "# Import necessary libraries\n",
    "from selenium import webdriver\n",
    "from selenium.webdriver.common.keys import Keys\n",
    "from bs4 import BeautifulSoup\n",
    "import time"
   ]
  },
  {
   "cell_type": "code",
   "execution_count": 12,
   "id": "bd081e03",
   "metadata": {},
   "outputs": [],
   "source": [
    "import os\n",
    "from selenium import webdriver\n",
    "\n",
    "# Specify the path to Chromedriver\n",
    "chromedriver_path = \"/Applications/chromedriver-mac-x64/chromedriver\"\n",
    "\n",
    "# Add the directory containing Chromedriver to the PATH environment variable\n",
    "os.environ[\"PATH\"] += os.pathsep + os.path.dirname(chromedriver_path)\n",
    "\n",
    "# Initialize Chrome WebDriver without specifying the executable_path\n",
    "driver = webdriver.Chrome()\n",
    "\n",
    "# Rest of your code\n"
   ]
  },
  {
   "cell_type": "markdown",
   "id": "dafe4491",
   "metadata": {},
   "source": [
    "# Define your job search criteria\n",
    "job_title = \"Data Analyst\"\n",
    "location = \"Remote\"\n",
    "\n",
    "# Initialize the URL for the job search on Indeed\n",
    "url = f\"https://www.indeed.com/jobs?q={job_title.replace(' ', '+')}&l={location.replace(' ', '+')}\"\n",
    "\n",
    "# Open the Indeed job search page\n",
    "driver.get(url)\n",
    "\n",
    "# Scroll down to load more job listings (adjust the range to load more if needed)\n",
    "for _ in range(3):\n",
    "    driver.find_element_by_tag_name('body').send_keys(Keys.PAGE_DOWN)\n",
    "    time.sleep(2)\n",
    "\n",
    "# Get the page source after scrolling\n",
    "page_source = driver.page_source\n",
    "\n",
    "# Close the browser\n",
    "driver.quit()\n",
    "\n",
    "# Parse the HTML using BeautifulSoup\n",
    "soup = BeautifulSoup(page_source, 'html.parser')\n",
    "\n",
    "# Find and extract job listings\n",
    "job_listings = soup.find_all('div', class_='jobsearch-SerpJobCard')\n",
    "\n",
    "# Extract relevant job details\n",
    "for job in job_listings:\n",
    "    title = job.find('h2', class_='title').text.strip()\n",
    "    company = job.find('span', class_='company').text.strip()\n",
    "    location = job.find('div', class_='recJobLoc').get('data-rc-loc')\n",
    "    job_description = job.find('div', class_='summary').text.strip()\n",
    "    \n",
    "    # Print or store the job details as needed\n",
    "    print(\"Job Title:\", title)\n",
    "    print(\"Company:\", company)\n",
    "    print(\"Location:\", location)\n",
    "    print(\"Job Description:\", job_description)\n",
    "    print(\"\\n\")\n",
    "\n",
    "# You can further process and store the job details in a file or database as needed"
   ]
  },
  {
   "cell_type": "code",
   "execution_count": 16,
   "id": "279bdac9",
   "metadata": {},
   "outputs": [],
   "source": [
    "from selenium import webdriver\n",
    "from selenium.webdriver.common.keys import Keys\n",
    "\n",
    "# Initialize the Chrome WebDriver\n",
    "driver = webdriver.Chrome()\n",
    "\n",
    "# Define your job search criteria\n",
    "job_title = \"Data Analyst\"\n",
    "location = \"Remote\"\n",
    "\n",
    "# Initialize the URL for the job search on Indeed\n",
    "url = f\"https://www.indeed.com/jobs?q={job_title.replace(' ', '+')}&l={location.replace(' ', '+')}\"\n",
    "\n",
    "# Open the Indeed job search page\n",
    "driver.get(url)\n",
    "\n",
    "# Scroll down to load more job listings (adjust the range to load more if needed)\n",
    "for _ in range(3):\n",
    "    driver.execute_script(\"window.scrollTo(0, document.body.scrollHeight);\")\n",
    "    time.sleep(2)  # Add a short delay to allow content to load\n",
    "\n",
    "# Get the page source after scrolling\n",
    "page_source = driver.page_source\n",
    "\n",
    "# Close the browser\n",
    "driver.quit()\n",
    "\n",
    "# Parse the HTML using BeautifulSoup\n",
    "soup = BeautifulSoup(page_source, 'html.parser')\n",
    "\n",
    "# Find and extract job listings\n",
    "job_listings = soup.find_all('div', class_='jobsearch-SerpJobCard')\n",
    "\n",
    "# Extract relevant job details\n",
    "for job in job_listings:\n",
    "    title = job.find('h2', class_='title').text.strip()\n",
    "    company = job.find('span', class_='company').text.strip()\n",
    "    location = job.find('div', class_='recJobLoc').get('data-rc-loc')\n",
    "    job_description = job.find('div', class_='summary').text.strip()\n",
    "    \n",
    "    # Print or store the job details as needed\n",
    "    print(\"Job Title:\", title)\n",
    "    print(\"Company:\", company)\n",
    "    print(\"Location:\", location)\n",
    "    print(\"Job Description:\", job_description)\n",
    "    print(\"\\n\")\n",
    "\n",
    "# You can further process and store the job details in a file or database as needed\n"
   ]
  }
 ],
 "metadata": {
  "kernelspec": {
   "display_name": "Python 3 (ipykernel)",
   "language": "python",
   "name": "python3"
  },
  "language_info": {
   "codemirror_mode": {
    "name": "ipython",
    "version": 3
   },
   "file_extension": ".py",
   "mimetype": "text/x-python",
   "name": "python",
   "nbconvert_exporter": "python",
   "pygments_lexer": "ipython3",
   "version": "3.11.0"
  }
 },
 "nbformat": 4,
 "nbformat_minor": 5
}

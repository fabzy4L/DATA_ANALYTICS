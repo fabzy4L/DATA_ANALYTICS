{
 "cells": [
  {
   "cell_type": "markdown",
   "id": "66d023b6",
   "metadata": {},
   "source": [
    "# LIBRARIES"
   ]
  },
  {
   "cell_type": "code",
   "execution_count": null,
   "id": "2d2f2ec7",
   "metadata": {},
   "outputs": [],
   "source": [
    "import os\n",
    "import urllib.request"
   ]
  },
  {
   "cell_type": "code",
   "execution_count": 6,
   "id": "12e27090",
   "metadata": {},
   "outputs": [
    {
     "name": "stdout",
     "output_type": "stream",
     "text": [
      "openbabelpdbqt\n"
     ]
    },
    {
     "data": {
      "text/plain": [
       "'OPENBABELPDBQT'"
      ]
     },
     "execution_count": 6,
     "metadata": {},
     "output_type": "execute_result"
    }
   ],
   "source": [
    "text = input()\n",
    "text2 = text.upper()\n",
    "text2"
   ]
  },
  {
   "cell_type": "markdown",
   "id": "b88bcf7d",
   "metadata": {},
   "source": [
    "# URLS OF THE PDB FILES"
   ]
  },
  {
   "cell_type": "code",
   "execution_count": null,
   "id": "fe0e0e93",
   "metadata": {},
   "outputs": [],
   "source": [
    "ligand8_url = \"https://raw.githubusercontent.com/fabzy4L/DATA_ANALYTICS/main/MOLECULES/thc8.pdb\"\n",
    "ligand9_url = \"https://raw.githubusercontent.com/fabzy4L/DATA_ANALYTICS/main/MOLECULES/thc9.pdb\"\n",
    "receptor_url = \"https://raw.githubusercontent.com/fabzy4L/DATA_ANALYTICS/main/MOLECULES/5tgz.pdb\""
   ]
  },
  {
   "cell_type": "markdown",
   "id": "35280bb4",
   "metadata": {},
   "source": [
    "# OUTPUT FILE NAMES"
   ]
  },
  {
   "cell_type": "code",
   "execution_count": null,
   "id": "52d3928f",
   "metadata": {},
   "outputs": [],
   "source": [
    "ligand8_pdbqt_file = \"ligand8.pdbqt\"\n",
    "ligand9_pdbqt_file = \"ligand9.pdbqt\"\n",
    "receptor_pdbqt_file = \"receptor.pdbqt\""
   ]
  },
  {
   "cell_type": "markdown",
   "id": "226dcb5d",
   "metadata": {},
   "source": [
    "# DOWNLOAD PDB FILES"
   ]
  },
  {
   "cell_type": "code",
   "execution_count": null,
   "id": "2377d7a4",
   "metadata": {},
   "outputs": [],
   "source": [
    "urllib.request.urlretrieve(ligand8_url, \"ligand8.pdb\")\n",
    "urllib.request.urlretrieve(ligand9_url, \"ligand9.pdb\")\n",
    "urllib.request.urlretrieve(receptor_url, \"receptor.pdb\")"
   ]
  },
  {
   "cell_type": "markdown",
   "id": "f941a574",
   "metadata": {},
   "source": [
    "# CONVERT PDB FILES TO PDBQT FORMAT USING OBABEL"
   ]
  },
  {
   "cell_type": "code",
   "execution_count": null,
   "id": "abfe3f0e",
   "metadata": {},
   "outputs": [],
   "source": [
    "os.system(f\"obabel ligand8.pdb -O {ligand8_pdbqt_file}\")\n",
    "os.system(f\"obabel ligand9.pdb -O {ligand9_pdbqt_file}\")\n",
    "os.system(f\"obabel receptor.pdb -O {receptor_pdbqt_file}\")"
   ]
  },
  {
   "cell_type": "markdown",
   "id": "0083e48a",
   "metadata": {},
   "source": [
    "# REMOVE THE ORIGINAL PDB FILES"
   ]
  },
  {
   "cell_type": "code",
   "execution_count": null,
   "id": "6f5431a5",
   "metadata": {},
   "outputs": [],
   "source": [
    "os.remove(\"ligand8.pdb\")\n",
    "os.remove(\"ligand9.pdb\")\n",
    "os.remove(\"receptor.pdb\")\n",
    "\n",
    "print(\"Conversion completed.\")"
   ]
  }
 ],
 "metadata": {
  "kernelspec": {
   "display_name": "Python 3 (ipykernel)",
   "language": "python",
   "name": "python3"
  },
  "language_info": {
   "codemirror_mode": {
    "name": "ipython",
    "version": 3
   },
   "file_extension": ".py",
   "mimetype": "text/x-python",
   "name": "python",
   "nbconvert_exporter": "python",
   "pygments_lexer": "ipython3",
   "version": "3.11.0"
  }
 },
 "nbformat": 4,
 "nbformat_minor": 5
}

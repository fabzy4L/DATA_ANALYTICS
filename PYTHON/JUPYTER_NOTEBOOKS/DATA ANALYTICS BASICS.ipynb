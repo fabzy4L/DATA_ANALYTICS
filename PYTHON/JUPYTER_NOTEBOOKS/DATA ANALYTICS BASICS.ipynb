{
 "cells": [
  {
   "cell_type": "code",
   "execution_count": null,
   "id": "9dce9760",
   "metadata": {},
   "outputs": [],
   "source": [
    "#Analyzing individual columns of a DataFrame is a common task in data analysis and involves various operations to understand and summarize the data. Here are some common analyses you can perform on individual columns of a DataFrame using Python and Pandas:\n",
    "\n",
    "#1. **Basic Statistics:**\n",
    "\n",
    "#   You can calculate basic statistics like mean, median, standard deviation, minimum, and maximum values for a column using Pandas methods.\n",
    "\n",
    "  # Calculate basic statistics for a column\n",
    "   mean_value = df['Column'].mean()\n",
    "   median_value = df['Column'].median()\n",
    "   std_deviation = df['Column'].std()\n",
    "   min_value = df['Column'].min()\n",
    "   max_value = df['Column'].max()"
   ]
  },
  {
   "cell_type": "code",
   "execution_count": null,
   "id": "0ae2024e",
   "metadata": {},
   "outputs": [],
   "source": [
    "#2. **Frequency Counts:**\n",
    "\n",
    " #  To count the frequency of unique values in a column, you can use the `value_counts()` method.\n",
    "\n",
    "  # ```python\n",
    "   # Count unique values in a column\n",
    "   value_counts = df['Column'].value_counts()\n",
    " "
   ]
  },
  {
   "cell_type": "code",
   "execution_count": null,
   "id": "1cb6b9b7",
   "metadata": {},
   "outputs": [],
   "source": [
    "#  ```\n",
    "\n",
    "#3. **Histograms and Visualization:**\n",
    "\n",
    "#   Create histograms and visualizations to understand the distribution of data within a column.\n",
    "\n",
    "#   ```python\n",
    "   import matplotlib.pyplot as plt\n",
    "\n",
    "   # Create a histogram\n",
    "   plt.hist(df['Column'], bins=20, edgecolor='k')\n",
    "   plt.xlabel('Values')\n",
    "   plt.ylabel('Frequency')\n",
    "   plt.title('Histogram of Column')\n",
    "   plt.show()\n",
    " #  ```"
   ]
  },
  {
   "cell_type": "code",
   "execution_count": null,
   "id": "44a95b58",
   "metadata": {},
   "outputs": [],
   "source": [
    "#4. **Box Plots:**\n",
    "\n",
    "#   Box plots are useful for visualizing the distribution and detecting outliers in a column.\n",
    "\n",
    " #  ```python\n",
    "   # Create a box plot\n",
    "   plt.boxplot(df['Column'])\n",
    "   plt.ylabel('Values')\n",
    "   plt.title('Box Plot of Column')\n",
    "   plt.show()\n",
    "  # ```"
   ]
  },
  {
   "cell_type": "code",
   "execution_count": null,
   "id": "aae77791",
   "metadata": {},
   "outputs": [],
   "source": [
    "#5. **Summary Statistics:**\n",
    "\n",
    "#   Use the `describe()` method to get a summary of statistical measures for a column.\n",
    "\n",
    "#   ```python\n",
    "   # Generate summary statistics\n",
    "   summary = df['Column'].describe()\n",
    "#   ```"
   ]
  },
  {
   "cell_type": "code",
   "execution_count": null,
   "id": "78158228",
   "metadata": {},
   "outputs": [],
   "source": [
    "#6. **Correlation Analysis:**\n",
    "\n",
    "#   To analyze the correlation between two numeric columns, you can use the `corr()` method.\n",
    "\n",
    "#   ```python\n",
    "   # Calculate the correlation between two columns\n",
    "   correlation = df['Column1'].corr(df['Column2'])\n",
    " #  ```"
   ]
  },
  {
   "cell_type": "code",
   "execution_count": null,
   "id": "c2108c46",
   "metadata": {},
   "outputs": [],
   "source": [
    "#7. **Grouping and Aggregation:**\n",
    "\n",
    "#   You can group the DataFrame by a specific column and perform aggregate functions.\n",
    "\n",
    " #  ```python\n",
    "   # Group by a column and calculate the mean for another column\n",
    "   group = df.groupby('Category')['Value'].mean()\n",
    "  # ```"
   ]
  },
  {
   "cell_type": "code",
   "execution_count": null,
   "id": "bdccc3a3",
   "metadata": {},
   "outputs": [],
   "source": [
    "#8. **Detecting Missing Values:**\n",
    "\n",
    "#   Identify missing values in a column using `isna()` or `isnull()`.\n",
    "\n",
    "   # Check for missing values in a column\n",
    "   missing_values = df['Column'].isna().sum()\n",
    " "
   ]
  },
  {
   "cell_type": "code",
   "execution_count": 2,
   "id": "09dcda99",
   "metadata": {},
   "outputs": [
    {
     "ename": "NameError",
     "evalue": "name 'df' is not defined",
     "output_type": "error",
     "traceback": [
      "\u001b[0;31m---------------------------------------------------------------------------\u001b[0m",
      "\u001b[0;31mNameError\u001b[0m                                 Traceback (most recent call last)",
      "Cell \u001b[0;32mIn [2], line 7\u001b[0m\n\u001b[1;32m      1\u001b[0m \u001b[38;5;66;03m#9. **Data Transformation:**\u001b[39;00m\n\u001b[1;32m      2\u001b[0m \n\u001b[1;32m      3\u001b[0m  \u001b[38;5;66;03m#  You can apply various data transformations to a column, such as applying functions, replacing values, or creating new columns based on existing ones.\u001b[39;00m\n\u001b[1;32m      4\u001b[0m \n\u001b[1;32m      5\u001b[0m   \u001b[38;5;66;03m# ```python\u001b[39;00m\n\u001b[1;32m      6\u001b[0m    \u001b[38;5;66;03m# Apply a function to a column\u001b[39;00m\n\u001b[0;32m----> 7\u001b[0m df[\u001b[38;5;124m'\u001b[39m\u001b[38;5;124mNewColumn\u001b[39m\u001b[38;5;124m'\u001b[39m] \u001b[38;5;241m=\u001b[39m \u001b[43mdf\u001b[49m[\u001b[38;5;124m'\u001b[39m\u001b[38;5;124mColumn\u001b[39m\u001b[38;5;124m'\u001b[39m]\u001b[38;5;241m.\u001b[39mapply(\u001b[38;5;28;01mlambda\u001b[39;00m x: x \u001b[38;5;241m*\u001b[39m \u001b[38;5;241m2\u001b[39m)\n\u001b[1;32m      8\u001b[0m    \u001b[38;5;66;03m#```\u001b[39;00m\n\u001b[1;32m      9\u001b[0m \n\u001b[1;32m     10\u001b[0m \u001b[38;5;66;03m#These are some common analyses you can perform on individual columns of a DataFrame in Python using Pandas and related libraries. Depending on your specific analysis goals, you can choose the appropriate techniques and visualizations.\u001b[39;00m\n",
      "\u001b[0;31mNameError\u001b[0m: name 'df' is not defined"
     ]
    }
   ],
   "source": [
    "\n",
    "#9. **Data Transformation:**\n",
    "\n",
    " #  You can apply various data transformations to a column, such as applying functions, replacing values, or creating new columns based on existing ones.\n",
    "\n",
    "  # ```python\n",
    "   # Apply a function to a column\n",
    "df['NewColumn'] = df['Column'].apply(lambda x: x * 2)\n",
    "   #```\n",
    "\n",
    "#These are some common analyses you can perform on individual columns of a DataFrame in Python using Pandas and related libraries. Depending on your specific analysis goals, you can choose the appropriate techniques and visualizations."
   ]
  },
  {
   "cell_type": "code",
   "execution_count": null,
   "id": "1eb64a06",
   "metadata": {},
   "outputs": [],
   "source": []
  }
 ],
 "metadata": {
  "kernelspec": {
   "display_name": "Python 3 (ipykernel)",
   "language": "python",
   "name": "python3"
  },
  "language_info": {
   "codemirror_mode": {
    "name": "ipython",
    "version": 3
   },
   "file_extension": ".py",
   "mimetype": "text/x-python",
   "name": "python",
   "nbconvert_exporter": "python",
   "pygments_lexer": "ipython3",
   "version": "3.11.0"
  }
 },
 "nbformat": 4,
 "nbformat_minor": 5
}

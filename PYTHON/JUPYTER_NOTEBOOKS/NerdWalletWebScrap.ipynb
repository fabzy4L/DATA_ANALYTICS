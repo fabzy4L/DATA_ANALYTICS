{
 "cells": [
  {
   "cell_type": "code",
   "execution_count": null,
   "id": "41565a75",
   "metadata": {},
   "outputs": [],
   "source": [
    "pip install requests beautifulsoup4"
   ]
  },
  {
   "cell_type": "markdown",
   "id": "f327449e",
   "metadata": {},
   "source": [
    "import requests\n",
    "from bs4 import BeautifulSoup\n",
    "\n",
    "url = 'https://www.nerdwallet.com/'\n",
    "response = requests.get(url)\n",
    "\n",
    "if response.status_code == 200:\n",
    "    soup = BeautifulSoup(response.text, 'html.parser')\n",
    "\n",
    "    # Example: Get the titles of all articles on the homepage\n",
    "    article_titles = soup.find_all('h3', class_='story-title')\n",
    "    for title in article_titles:\n",
    "        print(title.text.strip())\n",
    "else:\n",
    "    print('Failed to fetch the webpage')"
   ]
  },
  {
   "cell_type": "markdown",
   "id": "b8bb9839",
   "metadata": {},
   "source": [
    "import requests\n",
    "from bs4 import BeautifulSoup\n",
    "import csv\n",
    "\n",
    "url = 'https://www.nerdwallet.com/home/dashboard/transactions?categoryId=1'\n",
    "response = requests.get(url)\n",
    "\n",
    "if response.status_code == 200:\n",
    "    soup = BeautifulSoup(response.text, 'html.parser')\n",
    "\n",
    "    # Get the titles of all articles on the homepage\n",
    "    article_titles = soup.find_all('h3', class_='story-title')\n",
    "\n",
    "    # Create and open a CSV file in write mode\n",
    "    with open('nerdwallet_articles.csv', mode='w', newline='', encoding='utf-8') as file:\n",
    "        writer = csv.writer(file)\n",
    "        writer.writerow(['Article Title'])  # Write the header row\n",
    "        \n",
    "        # Write each article title to the CSV file\n",
    "        for title in article_titles:\n",
    "            writer.writerow([title.text.strip()])\n",
    "\n",
    "    print('Data exported to nerdwallet_articles.csv')\n",
    "else:\n",
    "    print('Failed to fetch the webpage')\n",
    "    \n",
    "    \n",
    "    "
   ]
  },
  {
   "cell_type": "markdown",
   "id": "75741899",
   "metadata": {},
   "source": [
    "import requests\n",
    "from bs4 import BeautifulSoup\n",
    "import pandas as pd\n",
    "\n",
    "# Send a GET request to the NerdWallet dashboard page\n",
    "url = 'https://www.nerdwallet.com/home/dashboard/transactions?categoryId=1'\n",
    "response = requests.get(url)\n",
    "\n",
    "# Check if the request was successful (status code 200)\n",
    "if response.status_code == 200:\n",
    "    # Parse the HTML content\n",
    "    soup = BeautifulSoup(response.text, 'html.parser')\n",
    "\n",
    "    # Find elements containing transaction details\n",
    "    elements = soup.find_all(class_='_1i-LC7')\n",
    "\n",
    "    # Initialize lists to store extracted data\n",
    "    dates = []\n",
    "    descriptions = []\n",
    "    amounts = []\n",
    "\n",
    "    # Extract data and append to lists\n",
    "    for element in elements:\n",
    "        date = element.find(class_='_2RAKvT TS4Kq- DFVVwC').text.strip()\n",
    "        description = element.find(class_='_2VV_pT DFVVwC _1nnD9-').text.strip()\n",
    "        amount = element.find(class_='_3gNiiG DFVVwC').text.strip()\n",
    "\n",
    "        dates.append(date)\n",
    "        descriptions.append(description)\n",
    "        amounts.append(amount)\n",
    "\n",
    "    # Create a DataFrame from the extracted data\n",
    "    df = pd.DataFrame({\n",
    "        'Date': dates,\n",
    "        'Description': descriptions,\n",
    "        'Amount': amounts\n",
    "    })\n",
    "\n",
    "    # Display the DataFrame\n",
    "    print(df)\n",
    "\n",
    "    "
   ]
  },
  {
   "cell_type": "code",
   "execution_count": 16,
   "id": "279f4aac",
   "metadata": {},
   "outputs": [
    {
     "data": {
      "text/html": [
       "<div>\n",
       "<style scoped>\n",
       "    .dataframe tbody tr th:only-of-type {\n",
       "        vertical-align: middle;\n",
       "    }\n",
       "\n",
       "    .dataframe tbody tr th {\n",
       "        vertical-align: top;\n",
       "    }\n",
       "\n",
       "    .dataframe thead th {\n",
       "        text-align: right;\n",
       "    }\n",
       "</style>\n",
       "<table border=\"1\" class=\"dataframe\">\n",
       "  <thead>\n",
       "    <tr style=\"text-align: right;\">\n",
       "      <th></th>\n",
       "      <th>Headlines</th>\n",
       "    </tr>\n",
       "  </thead>\n",
       "  <tbody>\n",
       "  </tbody>\n",
       "</table>\n",
       "</div>"
      ],
      "text/plain": [
       "Empty DataFrame\n",
       "Columns: [Headlines]\n",
       "Index: []"
      ]
     },
     "execution_count": 16,
     "metadata": {},
     "output_type": "execute_result"
    }
   ],
   "source": [
    "df  "
   ]
  },
  {
   "cell_type": "code",
   "execution_count": null,
   "id": "3a9b3b27",
   "metadata": {},
   "outputs": [],
   "source": [
    "#dash-content-container > div > div > div > div:nth-child(5) > div > div.VVyukI.JdzG0V\n",
    "#_1i-LC7"
   ]
  },
  {
   "cell_type": "markdown",
   "id": "94720045",
   "metadata": {},
   "source": [
    "import requests\n",
    "from bs4 import BeautifulSoup\n",
    "\n",
    "# Send a GET request to the NerdWallet dashboard page\n",
    "url = 'https://www.nerdwallet.com/home/dashboard/transactions?categoryId=1'\n",
    "response = requests.get(url)\n",
    "\n",
    "# Check if the request was successful (status code 200)\n",
    "if response.status_code == 200:\n",
    "    # Print the response content\n",
    "    print(response.text)\n",
    "else:\n",
    "    print('Failed to fetch the webpage')"
   ]
  },
  {
   "cell_type": "markdown",
   "id": "875e180f",
   "metadata": {},
   "source": [
    "import requests\n",
    "\n",
    "# Send a GET request to the NerdWallet dashboard page\n",
    "url = 'https://www.nerdwallet.com/home/dashboard/transactions?categoryId=1'\n",
    "response = requests.get(url)\n",
    "\n",
    "# Check if the request was successful (status code 200)\n",
    "if response.status_code == 200:\n",
    "    # Write the response content to a file\n",
    "    with open('nerdwallet_dashboard.html', 'w', encoding='utf-8') as file:\n",
    "        file.write(response.text)\n",
    "    print('HTML content saved to nerdwallet_dashboard.html')\n",
    "else:\n",
    "    print('Failed to fetch the webpage')"
   ]
  },
  {
   "cell_type": "code",
   "execution_count": 24,
   "id": "95b3e63f",
   "metadata": {},
   "outputs": [
    {
     "name": "stdout",
     "output_type": "stream",
     "text": [
      "HTML content saved to soup_content.txt\n"
     ]
    }
   ],
   "source": [
    "import requests\n",
    "from bs4 import BeautifulSoup\n",
    "\n",
    "# Send a GET request to the NerdWallet dashboard page\n",
    "url = 'https://www.nerdwallet.com/home/dashboard/transactions?categoryId=1'\n",
    "response = requests.get(url)\n",
    "\n",
    "# Check if the request was successful (status code 200)\n",
    "if response.status_code == 200:\n",
    "    # Parse the HTML content\n",
    "    soup = BeautifulSoup(response.text, 'html.parser')\n",
    "\n",
    "    # Write the HTML content to a text file\n",
    "    with open('soup_content.txt', 'w', encoding='utf-8') as file:\n",
    "        file.write(str(soup))\n",
    "\n",
    "    print('HTML content saved to soup_content.txt')\n",
    "else:\n",
    "    print('Failed to fetch the webpage')\n"
   ]
  }
 ],
 "metadata": {
  "kernelspec": {
   "display_name": "Python 3 (ipykernel)",
   "language": "python",
   "name": "python3"
  },
  "language_info": {
   "codemirror_mode": {
    "name": "ipython",
    "version": 3
   },
   "file_extension": ".py",
   "mimetype": "text/x-python",
   "name": "python",
   "nbconvert_exporter": "python",
   "pygments_lexer": "ipython3",
   "version": "3.11.0"
  }
 },
 "nbformat": 4,
 "nbformat_minor": 5
}

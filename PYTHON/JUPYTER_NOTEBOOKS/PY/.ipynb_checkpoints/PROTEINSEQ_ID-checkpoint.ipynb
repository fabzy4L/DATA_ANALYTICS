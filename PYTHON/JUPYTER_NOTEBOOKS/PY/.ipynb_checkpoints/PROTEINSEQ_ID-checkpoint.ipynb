{
 "cells": [
  {
   "cell_type": "markdown",
   "id": "32431147",
   "metadata": {},
   "source": [
    "# PROTEIN SEQUENCE IDENTIFIER"
   ]
  },
  {
   "cell_type": "code",
   "execution_count": 32,
   "id": "9bb5f53a",
   "metadata": {},
   "outputs": [
    {
     "name": "stdout",
     "output_type": "stream",
     "text": [
      "Enter protein seq:SDVIHRYKUUPAKSHGWYVCJRSRFTWMVWWRFRSCRA\n"
     ]
    }
   ],
   "source": [
    "#Assign protein sequence to protein variable\n",
    "\n",
    "protein = input(\"Enter protein seq:\")\n",
    "\n",
    "#protein = 'SDVIHRYKUUPAKSHGWYVCJRSRFTWMVWWRFRSCRA'"
   ]
  },
  {
   "cell_type": "code",
   "execution_count": 33,
   "id": "400d39f1",
   "metadata": {},
   "outputs": [
    {
     "name": "stdout",
     "output_type": "stream",
     "text": [
      "protein contains invalid aminoacid Y at position 6\n",
      "protein contains invalid aminoacid U at position 8\n",
      "protein contains invalid aminoacid U at position 9\n",
      "protein contains invalid aminoacid Y at position 17\n",
      "protein contains invalid aminoacid J at position 20\n"
     ]
    }
   ],
   "source": [
    "#IF AN INVALID CHARACTER IS DETECTED, LOOP RETURNS EACH CHARACTER'S POSITION\n",
    "\n",
    "#Make sure to add colons after both the `for` and `if` lines\n",
    "for i in range(len(protein)):\n",
    "    if protein[i] not in 'ABCDEFGHIKLMNOPQRSTVWXZ':\n",
    "        print(\"protein contains invalid aminoacid %s at position %d\" % (protein[i], i))"
   ]
  },
  {
   "cell_type": "code",
   "execution_count": 34,
   "id": "71e34535",
   "metadata": {},
   "outputs": [
    {
     "name": "stdout",
     "output_type": "stream",
     "text": [
      "protein invalid\n"
     ]
    }
   ],
   "source": [
    "#IF AN INVALID CHARACTER IS DETECTED, LOOP BREAKS\n",
    "\n",
    "#Make sure to add colons after both the `for` and `if` lines\n",
    "for i in range(len(protein)):\n",
    "    if protein[i] not in 'ABCDEFGHIKLMNOPQRSTVWXZ':\n",
    "        print(\"protein invalid\")\n",
    "        break"
   ]
  },
  {
   "cell_type": "code",
   "execution_count": 37,
   "id": "11b9a3b2",
   "metadata": {},
   "outputs": [
    {
     "name": "stdout",
     "output_type": "stream",
     "text": [
      "corrected protein seq is SDVIHRKPAKSHGWVCRSRFTWMVWWRFRSCRA\n"
     ]
    }
   ],
   "source": [
    "#REMOVES INVALID CHARACTERS FROM STRING\n",
    "\n",
    "#Make sure to add colons after both the `for` and `if` lines\n",
    "corrected_protein = \"\"\n",
    "\n",
    "for i in range(len(protein)):\n",
    "    if protein[i] not in 'ABCDEFGHIKLMNOPQRSTVWXZ':\n",
    "#        print(\"protein invalid\")\n",
    "        continue\n",
    "    corrected_protein = corrected_protein + protein[i]\n",
    "print(\"corrected protein seq is %s\" %corrected_protein)"
   ]
  },
  {
   "cell_type": "markdown",
   "id": "51b229d5",
   "metadata": {},
   "source": [
    "# The variable i is a common convention in programming \n",
    "#to represent a counter or index. In this specific context:\n",
    "\n",
    "#for i in range(len(protein)):: \n",
    "#This line sets up a loop that \n",
    "#goes through each position (or index) in the protein sequence. \n",
    "#It starts from the first position (index 0) and goes up to the last position (index len(protein) - 1).\n",
    "\n",
    "#if protein[i] not in 'ABCDEFGHIKLMNOPQRSTVWXZ':: \n",
    "#Inside the loop, protein[i] is used to access the letter at the current position/index i in the protein sequence. \n",
    "#This letter is then checked to see if it's not in \n",
    "#the string of valid amino acids, which are the letters 'A' through 'Z' except 'Y'. \n",
    "#If the letter is not in that set, it means it's an invalid amino acid.\n",
    "\n",
    "#print(\"protein contains invalid aminoacid %s at position %d\" % (protein[i], i)): \n",
    "#If an invalid amino acid is found at position i, this line prints a message indicating \n",
    "#that the protein contains an invalid amino acid (protein[i]) at the specific position (i) where it was found.\n",
    "\n",
    "#So, in summary, i is a variable that helps keep track of which position in the \n",
    "#protein sequence you're currently looking at as you loop through it.\n"
   ]
  },
  {
   "cell_type": "code",
   "execution_count": 40,
   "id": "e2891961",
   "metadata": {},
   "outputs": [
    {
     "data": {
      "text/plain": [
       "37"
      ]
     },
     "execution_count": 40,
     "metadata": {},
     "output_type": "execute_result"
    }
   ],
   "source": [
    "i"
   ]
  },
  {
   "cell_type": "code",
   "execution_count": 41,
   "id": "bbfd2c92",
   "metadata": {},
   "outputs": [
    {
     "data": {
      "text/plain": [
       "range(0, 38)"
      ]
     },
     "execution_count": 41,
     "metadata": {},
     "output_type": "execute_result"
    }
   ],
   "source": [
    "range(len(protein))\n",
    "#range(protein)"
   ]
  }
 ],
 "metadata": {
  "kernelspec": {
   "display_name": "Python 3 (ipykernel)",
   "language": "python",
   "name": "python3"
  },
  "language_info": {
   "codemirror_mode": {
    "name": "ipython",
    "version": 3
   },
   "file_extension": ".py",
   "mimetype": "text/x-python",
   "name": "python",
   "nbconvert_exporter": "python",
   "pygments_lexer": "ipython3",
   "version": "3.11.0"
  }
 },
 "nbformat": 4,
 "nbformat_minor": 5
}

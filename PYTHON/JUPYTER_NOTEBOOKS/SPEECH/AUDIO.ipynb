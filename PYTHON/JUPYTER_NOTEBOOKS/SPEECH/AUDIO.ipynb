{
 "cells": [
  {
   "cell_type": "code",
   "execution_count": 1,
   "id": "426328b3-4b11-423d-af0e-dac59f378213",
   "metadata": {},
   "outputs": [
    {
     "name": "stdout",
     "output_type": "stream",
     "text": [
      "Defaulting to user installation because normal site-packages is not writeable\n",
      "Requirement already satisfied: moviepy in c:\\users\\fabian alvarez-primo\\appdata\\local\\packages\\pythonsoftwarefoundation.python.3.12_qbz5n2kfra8p0\\localcache\\local-packages\\python312\\site-packages (2.1.2)\n",
      "Requirement already satisfied: SpeechRecognition in c:\\users\\fabian alvarez-primo\\appdata\\local\\packages\\pythonsoftwarefoundation.python.3.12_qbz5n2kfra8p0\\localcache\\local-packages\\python312\\site-packages (3.14.2)\n",
      "Requirement already satisfied: pydub in c:\\users\\fabian alvarez-primo\\appdata\\local\\packages\\pythonsoftwarefoundation.python.3.12_qbz5n2kfra8p0\\localcache\\local-packages\\python312\\site-packages (0.25.1)\n",
      "Requirement already satisfied: decorator<6.0,>=4.0.2 in c:\\users\\fabian alvarez-primo\\appdata\\local\\packages\\pythonsoftwarefoundation.python.3.12_qbz5n2kfra8p0\\localcache\\local-packages\\python312\\site-packages (from moviepy) (5.1.1)\n",
      "Requirement already satisfied: imageio<3.0,>=2.5 in c:\\users\\fabian alvarez-primo\\appdata\\local\\packages\\pythonsoftwarefoundation.python.3.12_qbz5n2kfra8p0\\localcache\\local-packages\\python312\\site-packages (from moviepy) (2.37.0)\n",
      "Requirement already satisfied: imageio_ffmpeg>=0.2.0 in c:\\users\\fabian alvarez-primo\\appdata\\local\\packages\\pythonsoftwarefoundation.python.3.12_qbz5n2kfra8p0\\localcache\\local-packages\\python312\\site-packages (from moviepy) (0.6.0)\n",
      "Requirement already satisfied: numpy>=1.25.0 in c:\\users\\fabian alvarez-primo\\appdata\\local\\packages\\pythonsoftwarefoundation.python.3.12_qbz5n2kfra8p0\\localcache\\local-packages\\python312\\site-packages (from moviepy) (1.26.4)\n",
      "Requirement already satisfied: proglog<=1.0.0 in c:\\users\\fabian alvarez-primo\\appdata\\local\\packages\\pythonsoftwarefoundation.python.3.12_qbz5n2kfra8p0\\localcache\\local-packages\\python312\\site-packages (from moviepy) (0.1.11)\n",
      "Requirement already satisfied: python-dotenv>=0.10 in c:\\users\\fabian alvarez-primo\\appdata\\local\\packages\\pythonsoftwarefoundation.python.3.12_qbz5n2kfra8p0\\localcache\\local-packages\\python312\\site-packages (from moviepy) (1.0.1)\n",
      "Requirement already satisfied: pillow<11.0,>=9.2.0 in c:\\users\\fabian alvarez-primo\\appdata\\local\\packages\\pythonsoftwarefoundation.python.3.12_qbz5n2kfra8p0\\localcache\\local-packages\\python312\\site-packages (from moviepy) (10.4.0)\n",
      "Requirement already satisfied: typing-extensions in c:\\users\\fabian alvarez-primo\\appdata\\local\\packages\\pythonsoftwarefoundation.python.3.12_qbz5n2kfra8p0\\localcache\\local-packages\\python312\\site-packages (from SpeechRecognition) (4.12.2)\n",
      "Requirement already satisfied: tqdm in c:\\users\\fabian alvarez-primo\\appdata\\local\\packages\\pythonsoftwarefoundation.python.3.12_qbz5n2kfra8p0\\localcache\\local-packages\\python312\\site-packages (from proglog<=1.0.0->moviepy) (4.67.1)\n",
      "Requirement already satisfied: colorama in c:\\users\\fabian alvarez-primo\\appdata\\local\\packages\\pythonsoftwarefoundation.python.3.12_qbz5n2kfra8p0\\localcache\\local-packages\\python312\\site-packages (from tqdm->proglog<=1.0.0->moviepy) (0.4.6)\n",
      "Note: you may need to restart the kernel to use updated packages.\n"
     ]
    }
   ],
   "source": [
    "pip install moviepy SpeechRecognition pydub"
   ]
  },
  {
   "cell_type": "code",
   "execution_count": 2,
   "id": "056724f6-1536-4065-b667-b9a647f0ec87",
   "metadata": {},
   "outputs": [
    {
     "name": "stdout",
     "output_type": "stream",
     "text": [
      "Defaulting to user installation because normal site-packages is not writeable\n",
      "Requirement already satisfied: moviepy in c:\\users\\fabian alvarez-primo\\appdata\\local\\packages\\pythonsoftwarefoundation.python.3.12_qbz5n2kfra8p0\\localcache\\local-packages\\python312\\site-packages (2.1.2)\n",
      "Requirement already satisfied: decorator<6.0,>=4.0.2 in c:\\users\\fabian alvarez-primo\\appdata\\local\\packages\\pythonsoftwarefoundation.python.3.12_qbz5n2kfra8p0\\localcache\\local-packages\\python312\\site-packages (from moviepy) (5.1.1)\n",
      "Requirement already satisfied: imageio<3.0,>=2.5 in c:\\users\\fabian alvarez-primo\\appdata\\local\\packages\\pythonsoftwarefoundation.python.3.12_qbz5n2kfra8p0\\localcache\\local-packages\\python312\\site-packages (from moviepy) (2.37.0)\n",
      "Requirement already satisfied: imageio_ffmpeg>=0.2.0 in c:\\users\\fabian alvarez-primo\\appdata\\local\\packages\\pythonsoftwarefoundation.python.3.12_qbz5n2kfra8p0\\localcache\\local-packages\\python312\\site-packages (from moviepy) (0.6.0)\n",
      "Requirement already satisfied: numpy>=1.25.0 in c:\\users\\fabian alvarez-primo\\appdata\\local\\packages\\pythonsoftwarefoundation.python.3.12_qbz5n2kfra8p0\\localcache\\local-packages\\python312\\site-packages (from moviepy) (1.26.4)\n",
      "Requirement already satisfied: proglog<=1.0.0 in c:\\users\\fabian alvarez-primo\\appdata\\local\\packages\\pythonsoftwarefoundation.python.3.12_qbz5n2kfra8p0\\localcache\\local-packages\\python312\\site-packages (from moviepy) (0.1.11)\n",
      "Requirement already satisfied: python-dotenv>=0.10 in c:\\users\\fabian alvarez-primo\\appdata\\local\\packages\\pythonsoftwarefoundation.python.3.12_qbz5n2kfra8p0\\localcache\\local-packages\\python312\\site-packages (from moviepy) (1.0.1)\n",
      "Requirement already satisfied: pillow<11.0,>=9.2.0 in c:\\users\\fabian alvarez-primo\\appdata\\local\\packages\\pythonsoftwarefoundation.python.3.12_qbz5n2kfra8p0\\localcache\\local-packages\\python312\\site-packages (from moviepy) (10.4.0)\n",
      "Requirement already satisfied: tqdm in c:\\users\\fabian alvarez-primo\\appdata\\local\\packages\\pythonsoftwarefoundation.python.3.12_qbz5n2kfra8p0\\localcache\\local-packages\\python312\\site-packages (from proglog<=1.0.0->moviepy) (4.67.1)\n",
      "Requirement already satisfied: colorama in c:\\users\\fabian alvarez-primo\\appdata\\local\\packages\\pythonsoftwarefoundation.python.3.12_qbz5n2kfra8p0\\localcache\\local-packages\\python312\\site-packages (from tqdm->proglog<=1.0.0->moviepy) (0.4.6)\n",
      "Note: you may need to restart the kernel to use updated packages.\n"
     ]
    }
   ],
   "source": [
    "pip install moviepy"
   ]
  },
  {
   "cell_type": "code",
   "execution_count": 3,
   "id": "1f0ea108-161a-462b-8934-7708fb8a70c5",
   "metadata": {},
   "outputs": [
    {
     "name": "stdout",
     "output_type": "stream",
     "text": [
      "Defaulting to user installation because normal site-packages is not writeable\n",
      "Requirement already satisfied: moviepy in c:\\users\\fabian alvarez-primo\\appdata\\local\\packages\\pythonsoftwarefoundation.python.3.12_qbz5n2kfra8p0\\localcache\\local-packages\\python312\\site-packages (2.1.2)\n",
      "Requirement already satisfied: decorator<6.0,>=4.0.2 in c:\\users\\fabian alvarez-primo\\appdata\\local\\packages\\pythonsoftwarefoundation.python.3.12_qbz5n2kfra8p0\\localcache\\local-packages\\python312\\site-packages (from moviepy) (5.1.1)\n",
      "Requirement already satisfied: imageio<3.0,>=2.5 in c:\\users\\fabian alvarez-primo\\appdata\\local\\packages\\pythonsoftwarefoundation.python.3.12_qbz5n2kfra8p0\\localcache\\local-packages\\python312\\site-packages (from moviepy) (2.37.0)\n",
      "Requirement already satisfied: imageio_ffmpeg>=0.2.0 in c:\\users\\fabian alvarez-primo\\appdata\\local\\packages\\pythonsoftwarefoundation.python.3.12_qbz5n2kfra8p0\\localcache\\local-packages\\python312\\site-packages (from moviepy) (0.6.0)\n",
      "Requirement already satisfied: numpy>=1.25.0 in c:\\users\\fabian alvarez-primo\\appdata\\local\\packages\\pythonsoftwarefoundation.python.3.12_qbz5n2kfra8p0\\localcache\\local-packages\\python312\\site-packages (from moviepy) (1.26.4)\n",
      "Requirement already satisfied: proglog<=1.0.0 in c:\\users\\fabian alvarez-primo\\appdata\\local\\packages\\pythonsoftwarefoundation.python.3.12_qbz5n2kfra8p0\\localcache\\local-packages\\python312\\site-packages (from moviepy) (0.1.11)\n",
      "Requirement already satisfied: python-dotenv>=0.10 in c:\\users\\fabian alvarez-primo\\appdata\\local\\packages\\pythonsoftwarefoundation.python.3.12_qbz5n2kfra8p0\\localcache\\local-packages\\python312\\site-packages (from moviepy) (1.0.1)\n",
      "Requirement already satisfied: pillow<11.0,>=9.2.0 in c:\\users\\fabian alvarez-primo\\appdata\\local\\packages\\pythonsoftwarefoundation.python.3.12_qbz5n2kfra8p0\\localcache\\local-packages\\python312\\site-packages (from moviepy) (10.4.0)\n",
      "Requirement already satisfied: tqdm in c:\\users\\fabian alvarez-primo\\appdata\\local\\packages\\pythonsoftwarefoundation.python.3.12_qbz5n2kfra8p0\\localcache\\local-packages\\python312\\site-packages (from proglog<=1.0.0->moviepy) (4.67.1)\n",
      "Requirement already satisfied: colorama in c:\\users\\fabian alvarez-primo\\appdata\\local\\packages\\pythonsoftwarefoundation.python.3.12_qbz5n2kfra8p0\\localcache\\local-packages\\python312\\site-packages (from tqdm->proglog<=1.0.0->moviepy) (0.4.6)\n"
     ]
    }
   ],
   "source": [
    "!pip install moviepy"
   ]
  },
  {
   "cell_type": "code",
   "execution_count": 6,
   "id": "4b6df355-ea36-4eca-a9cc-723a3369ba5c",
   "metadata": {},
   "outputs": [
    {
     "name": "stdout",
     "output_type": "stream",
     "text": [
      "Name: moviepy\n",
      "Version: 2.1.2\n",
      "Summary: Video editing with Python\n",
      "Home-page: \n",
      "Author: Zulko 2024\n",
      "Author-email: \n",
      "License: MIT License\n",
      "Location: C:\\Users\\Fabian Alvarez-Primo\\AppData\\Local\\Packages\\PythonSoftwareFoundation.Python.3.12_qbz5n2kfra8p0\\LocalCache\\local-packages\\Python312\\site-packages\n",
      "Requires: decorator, imageio, imageio_ffmpeg, numpy, pillow, proglog, python-dotenv\n",
      "Required-by: \n"
     ]
    }
   ],
   "source": [
    "!pip show moviepy"
   ]
  },
  {
   "cell_type": "code",
   "execution_count": 8,
   "id": "54dafb62-3f18-4540-962c-999a140964d0",
   "metadata": {},
   "outputs": [
    {
     "name": "stdout",
     "output_type": "stream",
     "text": [
      "C:\\Users\\Fabian Alvarez-Primo\\AppData\\Local\\Microsoft\\WindowsApps\\PythonSoftwareFoundation.Python.3.12_qbz5n2kfra8p0\\python.exe\n"
     ]
    }
   ],
   "source": [
    "import sys\n",
    "print(sys.executable)"
   ]
  },
  {
   "cell_type": "code",
   "execution_count": 3,
   "id": "caca341b-ef47-4273-85c5-dc781be43ca0",
   "metadata": {},
   "outputs": [
    {
     "name": "stdout",
     "output_type": "stream",
     "text": [
      "Defaulting to user installation because normal site-packages is not writeable\n",
      "Requirement already satisfied: moviepy in c:\\users\\fabian alvarez-primo\\appdata\\local\\packages\\pythonsoftwarefoundation.python.3.12_qbz5n2kfra8p0\\localcache\\local-packages\\python312\\site-packages (2.1.2)\n",
      "Requirement already satisfied: decorator<6.0,>=4.0.2 in c:\\users\\fabian alvarez-primo\\appdata\\local\\packages\\pythonsoftwarefoundation.python.3.12_qbz5n2kfra8p0\\localcache\\local-packages\\python312\\site-packages (from moviepy) (5.1.1)\n",
      "Requirement already satisfied: imageio<3.0,>=2.5 in c:\\users\\fabian alvarez-primo\\appdata\\local\\packages\\pythonsoftwarefoundation.python.3.12_qbz5n2kfra8p0\\localcache\\local-packages\\python312\\site-packages (from moviepy) (2.37.0)\n",
      "Requirement already satisfied: imageio_ffmpeg>=0.2.0 in c:\\users\\fabian alvarez-primo\\appdata\\local\\packages\\pythonsoftwarefoundation.python.3.12_qbz5n2kfra8p0\\localcache\\local-packages\\python312\\site-packages (from moviepy) (0.6.0)\n",
      "Requirement already satisfied: numpy>=1.25.0 in c:\\users\\fabian alvarez-primo\\appdata\\local\\packages\\pythonsoftwarefoundation.python.3.12_qbz5n2kfra8p0\\localcache\\local-packages\\python312\\site-packages (from moviepy) (1.26.4)\n",
      "Requirement already satisfied: proglog<=1.0.0 in c:\\users\\fabian alvarez-primo\\appdata\\local\\packages\\pythonsoftwarefoundation.python.3.12_qbz5n2kfra8p0\\localcache\\local-packages\\python312\\site-packages (from moviepy) (0.1.11)\n",
      "Requirement already satisfied: python-dotenv>=0.10 in c:\\users\\fabian alvarez-primo\\appdata\\local\\packages\\pythonsoftwarefoundation.python.3.12_qbz5n2kfra8p0\\localcache\\local-packages\\python312\\site-packages (from moviepy) (1.0.1)\n",
      "Requirement already satisfied: pillow<11.0,>=9.2.0 in c:\\users\\fabian alvarez-primo\\appdata\\local\\packages\\pythonsoftwarefoundation.python.3.12_qbz5n2kfra8p0\\localcache\\local-packages\\python312\\site-packages (from moviepy) (10.4.0)\n",
      "Requirement already satisfied: tqdm in c:\\users\\fabian alvarez-primo\\appdata\\local\\packages\\pythonsoftwarefoundation.python.3.12_qbz5n2kfra8p0\\localcache\\local-packages\\python312\\site-packages (from proglog<=1.0.0->moviepy) (4.67.1)\n",
      "Requirement already satisfied: colorama in c:\\users\\fabian alvarez-primo\\appdata\\local\\packages\\pythonsoftwarefoundation.python.3.12_qbz5n2kfra8p0\\localcache\\local-packages\\python312\\site-packages (from tqdm->proglog<=1.0.0->moviepy) (0.4.6)\n"
     ]
    }
   ],
   "source": [
    "!pip install --upgrade moviepy"
   ]
  },
  {
   "cell_type": "code",
   "execution_count": 2,
   "id": "4d2ef523-d99b-49a2-822d-eda2dd673159",
   "metadata": {
    "scrolled": true
   },
   "outputs": [
    {
     "name": "stdout",
     "output_type": "stream",
     "text": [
      "Name: moviepy\n",
      "Version: 2.1.2\n",
      "Summary: Video editing with Python\n",
      "Home-page: \n",
      "Author: Zulko 2024\n",
      "Author-email: \n",
      "License: MIT License\n",
      "Location: C:\\Users\\Fabian Alvarez-Primo\\AppData\\Local\\Packages\\PythonSoftwareFoundation.Python.3.12_qbz5n2kfra8p0\\LocalCache\\local-packages\\Python312\\site-packages\n",
      "Requires: decorator, imageio, imageio_ffmpeg, numpy, pillow, proglog, python-dotenv\n",
      "Required-by: \n"
     ]
    }
   ],
   "source": [
    "!python -m pip show moviepy"
   ]
  },
  {
   "cell_type": "code",
   "execution_count": 3,
   "id": "df6a1c94-a273-4ce7-b3ee-ab910681fd5e",
   "metadata": {},
   "outputs": [
    {
     "name": "stdout",
     "output_type": "stream",
     "text": [
      "Package                   Version\n",
      "------------------------- ---------------\n",
      "anyio                     4.2.0\n",
      "argon2-cffi               23.1.0\n",
      "argon2-cffi-bindings      21.2.0\n",
      "arrow                     1.3.0\n",
      "asttokens                 2.4.1\n",
      "async-lru                 2.0.4\n",
      "attrs                     23.2.0\n",
      "Babel                     2.14.0\n",
      "beautifulsoup4            4.12.3\n",
      "bleach                    6.1.0\n",
      "certifi                   2024.2.2\n",
      "cffi                      1.16.0\n",
      "charset-normalizer        3.3.2\n",
      "colorama                  0.4.6\n",
      "comm                      0.2.1\n",
      "debugpy                   1.8.0\n",
      "decorator                 5.1.1\n",
      "defusedxml                0.7.1\n",
      "executing                 2.0.1\n",
      "fastjsonschema            2.19.1\n",
      "fqdn                      1.5.1\n",
      "h11                       0.14.0\n",
      "idna                      3.6\n",
      "imageio                   2.37.0\n",
      "imageio-ffmpeg            0.6.0\n",
      "ipykernel                 6.29.0\n",
      "ipython                   8.21.0\n",
      "ipywidgets                8.1.1\n",
      "isoduration               20.11.0\n",
      "jedi                      0.19.1\n",
      "Jinja2                    3.1.3\n",
      "json5                     0.9.14\n",
      "jsonpointer               2.4\n",
      "jsonschema                4.21.1\n",
      "jsonschema-specifications 2023.12.1\n",
      "jupyter                   1.0.0\n",
      "jupyter_client            8.6.0\n",
      "jupyter-console           6.6.3\n",
      "jupyter_core              5.7.1\n",
      "jupyter-events            0.9.0\n",
      "jupyter-lsp               2.2.2\n",
      "jupyter_server            2.12.5\n",
      "jupyter_server_terminals  0.5.2\n",
      "jupyterlab                4.0.12\n",
      "jupyterlab_pygments       0.3.0\n",
      "jupyterlab_server         2.25.2\n",
      "jupyterlab-widgets        3.0.9\n",
      "MarkupSafe                2.1.5\n",
      "matplotlib-inline         0.1.6\n",
      "mistune                   3.0.2\n",
      "moviepy                   2.1.2\n",
      "nbclient                  0.9.0\n",
      "nbconvert                 7.14.2\n",
      "nbformat                  5.9.2\n",
      "nest-asyncio              1.6.0\n",
      "notebook                  7.0.7\n",
      "notebook_shim             0.2.3\n",
      "numpy                     1.26.4\n",
      "outcome                   1.3.0.post0\n",
      "overrides                 7.7.0\n",
      "packaging                 23.2\n",
      "pandas                    2.2.2\n",
      "pandocfilters             1.5.1\n",
      "parso                     0.8.3\n",
      "pillow                    10.4.0\n",
      "pip                       25.0.1\n",
      "platformdirs              4.2.0\n",
      "proglog                   0.1.11\n",
      "prometheus-client         0.19.0\n",
      "prompt-toolkit            3.0.43\n",
      "psutil                    5.9.8\n",
      "pure-eval                 0.2.2\n",
      "pycparser                 2.21\n",
      "pydub                     0.25.1\n",
      "Pygments                  2.17.2\n",
      "PySocks                   1.7.1\n",
      "python-dateutil           2.8.2\n",
      "python-dotenv             1.0.1\n",
      "python-json-logger        2.0.7\n",
      "pytz                      2024.1\n",
      "pywin32                   306\n",
      "pywinpty                  2.0.12\n",
      "PyYAML                    6.0.1\n",
      "pyzmq                     25.1.2\n",
      "qtconsole                 5.5.1\n",
      "QtPy                      2.4.1\n",
      "referencing               0.33.0\n",
      "requests                  2.31.0\n",
      "rfc3339-validator         0.1.4\n",
      "rfc3986-validator         0.1.1\n",
      "rpds-py                   0.17.1\n",
      "selenium                  4.23.1\n",
      "Send2Trash                1.8.2\n",
      "six                       1.16.0\n",
      "sniffio                   1.3.0\n",
      "sortedcontainers          2.4.0\n",
      "soupsieve                 2.5\n",
      "SpeechRecognition         3.14.2\n",
      "stack-data                0.6.3\n",
      "terminado                 0.18.0\n",
      "tinycss2                  1.2.1\n",
      "tornado                   6.4\n",
      "tqdm                      4.67.1\n",
      "traitlets                 5.14.1\n",
      "trio                      0.26.1\n",
      "trio-websocket            0.11.1\n",
      "types-python-dateutil     2.8.19.20240106\n",
      "typing_extensions         4.12.2\n",
      "tzdata                    2024.1\n",
      "uri-template              1.3.0\n",
      "urllib3                   2.2.0\n",
      "wcwidth                   0.2.13\n",
      "webcolors                 1.13\n",
      "webdriver-manager         4.0.2\n",
      "webencodings              0.5.1\n",
      "websocket-client          1.8.0\n",
      "widgetsnbextension        4.0.9\n",
      "wsproto                   1.2.0\n"
     ]
    }
   ],
   "source": [
    "!pip list"
   ]
  },
  {
   "cell_type": "code",
   "execution_count": 10,
   "id": "2936a9a4-1fed-419e-a5cd-8c69e18a633e",
   "metadata": {},
   "outputs": [
    {
     "name": "stdout",
     "output_type": "stream",
     "text": [
      "C:\\Users\\Fabian Alvarez-Primo\\AppData\\Local\\Microsoft\\WindowsApps\\PythonSoftwareFoundation.Python.3.12_qbz5n2kfra8p0\\python.exe\n"
     ]
    }
   ],
   "source": [
    "import sys\n",
    "print(sys.executable)"
   ]
  },
  {
   "cell_type": "code",
   "execution_count": 4,
   "id": "c1392d51-e9b0-48ac-96a5-687a5f17aee4",
   "metadata": {},
   "outputs": [
    {
     "ename": "ModuleNotFoundError",
     "evalue": "No module named 'moviepy.editor'",
     "output_type": "error",
     "traceback": [
      "\u001b[1;31m---------------------------------------------------------------------------\u001b[0m",
      "\u001b[1;31mModuleNotFoundError\u001b[0m                       Traceback (most recent call last)",
      "Cell \u001b[1;32mIn[4], line 1\u001b[0m\n\u001b[1;32m----> 1\u001b[0m \u001b[38;5;28;01mfrom\u001b[39;00m \u001b[38;5;21;01mmoviepy\u001b[39;00m\u001b[38;5;21;01m.\u001b[39;00m\u001b[38;5;21;01meditor\u001b[39;00m \u001b[38;5;28;01mimport\u001b[39;00m VideoFileClip\n\u001b[0;32m      2\u001b[0m \u001b[38;5;28;01mimport\u001b[39;00m \u001b[38;5;21;01mspeech_recognition\u001b[39;00m \u001b[38;5;28;01mas\u001b[39;00m \u001b[38;5;21;01msr\u001b[39;00m\n\u001b[0;32m      3\u001b[0m \u001b[38;5;28;01mfrom\u001b[39;00m \u001b[38;5;21;01mpydub\u001b[39;00m \u001b[38;5;28;01mimport\u001b[39;00m AudioSegment\n",
      "\u001b[1;31mModuleNotFoundError\u001b[0m: No module named 'moviepy.editor'"
     ]
    }
   ],
   "source": [
    "from moviepy.editor import VideoFileClip\n",
    "import speech_recognition as sr\n",
    "from pydub import AudioSegment\n",
    "import os\n",
    "\n",
    "# Step 1: Extract audio from video\n",
    "def extract_audio(video_path, audio_path):\n",
    "    try:\n",
    "        video = VideoFileClip(video_path)\n",
    "        audio = video.audio\n",
    "        audio.write_audiofile(audio_path)\n",
    "        print(f\"Audio extracted and saved as {audio_path}\")\n",
    "    except Exception as e:\n",
    "        print(f\"Error extracting audio: {e}\")\n",
    "\n",
    "# Step 2: Transcribe audio to text\n",
    "def transcribe_audio(audio_path):\n",
    "    try:\n",
    "        recognizer = sr.Recognizer()\n",
    "        audio = AudioSegment.from_file(audio_path)\n",
    "        audio = audio.set_channels(1).set_frame_rate(16000)  # Convert to mono and 16kHz for better recognition\n",
    "\n",
    "        # Save as WAV (since speech_recognition works well with WAV files)\n",
    "        temp_audio_path = \"temp_audio.wav\"\n",
    "        audio.export(temp_audio_path, format=\"wav\")\n",
    "\n",
    "        with sr.AudioFile(temp_audio_path) as source:\n",
    "            audio_data = recognizer.record(source)  # Read the entire audio file\n",
    "            print(\"Transcribing...\")\n",
    "            text = recognizer.recognize_google(audio_data)\n",
    "            print(\"Transcription completed: \")\n",
    "            print(text)\n",
    "    except sr.UnknownValueError:\n",
    "        print(\"Google Speech Recognition could not understand the audio\")\n",
    "    except sr.RequestError as e:\n",
    "        print(f\"Could not request results from Google Speech Recognition service; {e}\")\n",
    "    except Exception as e:\n",
    "        print(f\"Error during transcription: {e}\")\n",
    "    finally:\n",
    "        # Clean up temp audio file\n",
    "        if os.path.exists(temp_audio_path):\n",
    "            os.remove(temp_audio_path)\n",
    "\n",
    "# File paths\n",
    "video_path = r\"C:\\Users\\Fabian Alvarez-Primo\\Downloads\\MÁS DE TLATOANI STAND UP\"  # Path to your video file\n",
    "audio_path = \"extracted_audio.wav\"  # Path where the audio will be saved\n",
    "\n",
    "# Process\n",
    "extract_audio(video_path, audio_path)\n",
    "transcribe_audio(audio_path)"
   ]
  },
  {
   "cell_type": "code",
   "execution_count": null,
   "id": "994293f5-d974-40ec-be18-b7973b3ecc21",
   "metadata": {},
   "outputs": [],
   "source": []
  },
  {
   "cell_type": "code",
   "execution_count": null,
   "id": "4949a92a-47cd-4e47-bbb8-154749d66bc5",
   "metadata": {},
   "outputs": [],
   "source": []
  }
 ],
 "metadata": {
  "kernelspec": {
   "display_name": "Python 3 (ipykernel)",
   "language": "python",
   "name": "python3"
  },
  "language_info": {
   "codemirror_mode": {
    "name": "ipython",
    "version": 3
   },
   "file_extension": ".py",
   "mimetype": "text/x-python",
   "name": "python",
   "nbconvert_exporter": "python",
   "pygments_lexer": "ipython3",
   "version": "3.12.10"
  }
 },
 "nbformat": 4,
 "nbformat_minor": 5
}

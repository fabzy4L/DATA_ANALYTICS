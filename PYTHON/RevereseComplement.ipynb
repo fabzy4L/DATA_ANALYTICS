{
 "cells": [
  {
   "cell_type": "markdown",
   "id": "4e103ffc",
   "metadata": {},
   "source": [
    "# REVERSE COMPLEMENTARY DNA STRINGS"
   ]
  },
  {
   "cell_type": "markdown",
   "id": "3bfa94cd",
   "metadata": {},
   "source": [
    "# DEFINE FUNCTIONS\n",
    "1. REVERSE STRING FUNCTION\n",
    "2. COMPLEMENT STRING FUNCTION\n",
    "3. REVERSE COMPLEMENT FUNCTION"
   ]
  },
  {
   "cell_type": "markdown",
   "id": "8146db5a",
   "metadata": {},
   "source": [
    "# 1. REVERSE STRING FUNCTION"
   ]
  },
  {
   "cell_type": "code",
   "execution_count": 4,
   "id": "dd5c1f02",
   "metadata": {},
   "outputs": [],
   "source": [
    "def reverse_string(seq):\n",
    "    \"\"\"THIS FXN REVERSES DNA SEQS\"\"\"\n",
    "    return seq[::-1]"
   ]
  },
  {
   "cell_type": "markdown",
   "id": "dd5bbf65",
   "metadata": {},
   "source": [
    "# 2. COMPLEMENT STRING FUNCTION"
   ]
  },
  {
   "cell_type": "code",
   "execution_count": null,
   "id": "68d4f4cd",
   "metadata": {},
   "outputs": [],
   "source": []
  },
  {
   "cell_type": "markdown",
   "id": "3071ea6b",
   "metadata": {},
   "source": [
    "# 3. REVERSE COMPLEMENT FUNCTION"
   ]
  },
  {
   "cell_type": "code",
   "execution_count": 5,
   "id": "1eea97a2",
   "metadata": {},
   "outputs": [],
   "source": [
    "def reversecomplement(seq):\n",
    "    \"\"\"RETURN THE REVERSE COMPLEMENT OF DNA STRING\"\"\"\n",
    "    seq = reverse_string(seq)\n",
    "    seq = complement(seq)\n",
    "    return seq"
   ]
  },
  {
   "cell_type": "markdown",
   "id": "cb52b2bb",
   "metadata": {},
   "source": [
    "# 4. DEFINE STRING"
   ]
  },
  {
   "cell_type": "code",
   "execution_count": 6,
   "id": "7b5cb8ba",
   "metadata": {},
   "outputs": [],
   "source": [
    "A = \"AGTGTGGGGCG\""
   ]
  },
  {
   "cell_type": "markdown",
   "id": "13482c32",
   "metadata": {},
   "source": [
    "# 5. EXECUTE CODE"
   ]
  },
  {
   "cell_type": "code",
   "execution_count": 7,
   "id": "309e0332",
   "metadata": {},
   "outputs": [
    {
     "data": {
      "text/plain": [
       "'GCGGGGTGTGA'"
      ]
     },
     "execution_count": 7,
     "metadata": {},
     "output_type": "execute_result"
    }
   ],
   "source": [
    "reverse_string(A)"
   ]
  }
 ],
 "metadata": {
  "kernelspec": {
   "display_name": "Python 3 (ipykernel)",
   "language": "python",
   "name": "python3"
  },
  "language_info": {
   "codemirror_mode": {
    "name": "ipython",
    "version": 3
   },
   "file_extension": ".py",
   "mimetype": "text/x-python",
   "name": "python",
   "nbconvert_exporter": "python",
   "pygments_lexer": "ipython3",
   "version": "3.11.0"
  }
 },
 "nbformat": 4,
 "nbformat_minor": 5
}

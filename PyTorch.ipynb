{
 "cells": [
  {
   "cell_type": "code",
   "execution_count": 6,
   "id": "83ae7796",
   "metadata": {},
   "outputs": [],
   "source": [
    "import torch"
   ]
  },
  {
   "cell_type": "code",
   "execution_count": 7,
   "id": "dcaf6df1",
   "metadata": {},
   "outputs": [],
   "source": [
    "# Scalar\n",
    "x = torch.tensor(5)\n",
    "\n",
    "# 1D array\n",
    "y = torch.tensor([1, 2, 3])\n",
    "\n",
    "# 2D array (matrix)\n",
    "z = torch.tensor([[1, 2], [3, 4]])"
   ]
  },
  {
   "cell_type": "code",
   "execution_count": 8,
   "id": "5018192d",
   "metadata": {},
   "outputs": [],
   "source": [
    "# Element-wise addition\n",
    "result = y + y\n",
    "\n",
    "# Matrix multiplication\n",
    "matrix_result = torch.matmul(z, z)"
   ]
  },
  {
   "cell_type": "code",
   "execution_count": 9,
   "id": "1e7c41c5",
   "metadata": {},
   "outputs": [
    {
     "name": "stdout",
     "output_type": "stream",
     "text": [
      "tensor(36.)\n"
     ]
    }
   ],
   "source": [
    "# Create a tensor with requires_grad=True\n",
    "a = torch.tensor(2.0, requires_grad=True)\n",
    "\n",
    "# Perform operations\n",
    "b = a * 3\n",
    "c = b ** 2\n",
    "\n",
    "# Calculate gradients\n",
    "c.backward()\n",
    "\n",
    "# Access gradients\n",
    "print(a.grad)  # Should print 18.0"
   ]
  },
  {
   "cell_type": "code",
   "execution_count": null,
   "id": "1bd1bae1",
   "metadata": {},
   "outputs": [],
   "source": [
    "import torch.nn as nn\n",
    "\n",
    "class SimpleNN(nn.Module):\n",
    "    def __init__(self):\n",
    "        super(SimpleNN, self).__init__()\n",
    "        self.fc1 = nn.Linear(10, 5)  # Input size: 10, Output size: 5\n",
    "        self.relu = nn.ReLU()\n",
    "        self.fc2 = nn.Linear(5, 1)   # Input size: 5, Output size: 1\n",
    "\n",
    "    def forward(self, x):\n",
    "        x = self.fc1(x)\n",
    "        x = self.relu(x)\n",
    "        x = self.fc2(x)\n",
    "        return x"
   ]
  },
  {
   "cell_type": "code",
   "execution_count": 13,
   "id": "b33a17ea",
   "metadata": {},
   "outputs": [],
   "source": [
    "import torch.optim as optim\n",
    "\n",
    "model = SimpleNN()\n",
    "optimizer = optim.SGD(model.parameters(), lr=0.01)\n",
    "criterion = nn.MSELoss()"
   ]
  },
  {
   "cell_type": "code",
   "execution_count": 14,
   "id": "8c629373",
   "metadata": {},
   "outputs": [
    {
     "ename": "NameError",
     "evalue": "name 'input_data' is not defined",
     "output_type": "error",
     "traceback": [
      "\u001b[0;31m---------------------------------------------------------------------------\u001b[0m",
      "\u001b[0;31mNameError\u001b[0m                                 Traceback (most recent call last)",
      "Cell \u001b[0;32mIn [14], line 3\u001b[0m\n\u001b[1;32m      1\u001b[0m \u001b[38;5;28;01mfor\u001b[39;00m epoch \u001b[38;5;129;01min\u001b[39;00m \u001b[38;5;28mrange\u001b[39m(\u001b[38;5;241m100\u001b[39m):\n\u001b[1;32m      2\u001b[0m     \u001b[38;5;66;03m# Forward pass\u001b[39;00m\n\u001b[0;32m----> 3\u001b[0m     output \u001b[38;5;241m=\u001b[39m model(\u001b[43minput_data\u001b[49m)\n\u001b[1;32m      5\u001b[0m     \u001b[38;5;66;03m# Compute loss\u001b[39;00m\n\u001b[1;32m      6\u001b[0m     loss \u001b[38;5;241m=\u001b[39m criterion(output, target)\n",
      "\u001b[0;31mNameError\u001b[0m: name 'input_data' is not defined"
     ]
    }
   ],
   "source": [
    "for epoch in range(100):\n",
    "    # Forward pass\n",
    "    output = model(input_data)\n",
    "    \n",
    "    # Compute loss\n",
    "    loss = criterion(output, target)\n",
    "    \n",
    "    # Backward pass and optimization\n",
    "    optimizer.zero_grad()\n",
    "    loss.backward()\n",
    "    optimizer.step()\n"
   ]
  },
  {
   "cell_type": "code",
   "execution_count": null,
   "id": "2518f5d3",
   "metadata": {},
   "outputs": [],
   "source": [
    "model.eval()\n",
    "with torch.no_grad():\n",
    "    test_output = model(test_input)\n"
   ]
  },
  {
   "cell_type": "code",
   "execution_count": 12,
   "id": "c96ffdb6",
   "metadata": {},
   "outputs": [],
   "source": []
  }
 ],
 "metadata": {
  "kernelspec": {
   "display_name": "Python 3 (ipykernel)",
   "language": "python",
   "name": "python3"
  },
  "language_info": {
   "codemirror_mode": {
    "name": "ipython",
    "version": 3
   },
   "file_extension": ".py",
   "mimetype": "text/x-python",
   "name": "python",
   "nbconvert_exporter": "python",
   "pygments_lexer": "ipython3",
   "version": "3.11.0"
  }
 },
 "nbformat": 4,
 "nbformat_minor": 5
}
